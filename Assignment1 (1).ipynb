{
 "cells": [
  {
   "cell_type": "markdown",
   "id": "f4e94235-cddd-46d0-a043-a83288453696",
   "metadata": {},
   "source": [
    "## CS-651-A TEXT BASED ANALYSIS\n",
    "## Vineeth Anumula\n",
    "## Assignment - 1 4/6/2024\n",
    "## Performing some String operations on the given data"
   ]
  },
  {
   "cell_type": "markdown",
   "id": "71e31b2b-21d1-4e5a-b387-44293ca267ba",
   "metadata": {},
   "source": [
    "1. Repetition (*) which repeats a string a specified number of times."
   ]
  },
  {
   "cell_type": "code",
   "execution_count": 93,
   "id": "ad29ba71-a73f-485a-80e1-3b6b5aab2d27",
   "metadata": {},
   "outputs": [
    {
     "name": "stdout",
     "output_type": "stream",
     "text": [
      "Hello WorldHello WorldHello World\n"
     ]
    }
   ],
   "source": [
    "s = \"Hello World\"\n",
    "print(s*3)"
   ]
  },
  {
   "cell_type": "markdown",
   "id": "7acbc0b1-1b54-4624-83b4-288673385da2",
   "metadata": {},
   "source": [
    "2. Indexing ([]) accesses a character in a string by its position."
   ]
  },
  {
   "cell_type": "code",
   "execution_count": 95,
   "id": "cb62b2a3-fbe4-4a01-958d-4bfe355f85cb",
   "metadata": {},
   "outputs": [
    {
     "name": "stdout",
     "output_type": "stream",
     "text": [
      "l\n"
     ]
    }
   ],
   "source": [
    "s = \"Hello World\"\n",
    "print(s[3])"
   ]
  },
  {
   "cell_type": "markdown",
   "id": "86da95c5-0dfa-4570-97f2-c4c2242fc5ae",
   "metadata": {},
   "source": [
    "3. Length (len) which returns the number of characters in a string."
   ]
  },
  {
   "cell_type": "code",
   "execution_count": 97,
   "id": "156d13e9-3783-4b1b-922a-b1ec9bad168c",
   "metadata": {},
   "outputs": [
    {
     "name": "stdout",
     "output_type": "stream",
     "text": [
      "length of the string: 61\n"
     ]
    }
   ],
   "source": [
    "a=\"Never stop believing in hope because miracles happen everyday\"\n",
    "print(\"length of the string:\",len(a))"
   ]
  },
  {
   "cell_type": "markdown",
   "id": "9ddb42e0-75dc-4a6c-b537-fbf0a5cff0b8",
   "metadata": {},
   "source": [
    "4. The find method returns the lowest index of the substring if it is found in the string. If it's not found, it returns -1."
   ]
  },
  {
   "cell_type": "code",
   "execution_count": 99,
   "id": "b551e690-82c2-491e-a40c-60fd395d70c4",
   "metadata": {},
   "outputs": [
    {
     "name": "stdout",
     "output_type": "stream",
     "text": [
      "Substring found at position: 7\n"
     ]
    }
   ],
   "source": [
    "text = \"Hello, world!\"\n",
    "substring = \"world\"\n",
    "\n",
    "position = text.find(substring)\n",
    "\n",
    "if position != -1:\n",
    "    print(f\"Substring found at position: {position}\")\n",
    "else:\n",
    "    print(\"Substring not found\")"
   ]
  },
  {
   "cell_type": "code",
   "execution_count": 100,
   "id": "d7e079d6-1c40-414a-a0d7-6e3e194163e7",
   "metadata": {},
   "outputs": [
    {
     "name": "stdout",
     "output_type": "stream",
     "text": [
      "6\n",
      "-1\n",
      "Hello sita, How are you\n"
     ]
    }
   ],
   "source": [
    "#find substring\n",
    "x=\"Hello vandana, How are you\"\n",
    "a=x.find(\"vandana\")\n",
    "b=x.find(\"world\")\n",
    "\n",
    "# replace substring\n",
    "given_string = x.replace(\"vandana\", \"sita\")\n",
    "\n",
    "\n",
    "print(f'{a}')\n",
    "print(f'{b}')\n",
    "print(f'{given_string}')"
   ]
  },
  {
   "cell_type": "markdown",
   "id": "fb49deaa-8d2a-4e04-a335-744318d6021c",
   "metadata": {},
   "source": [
    "5. title() method is used to convert the first character of each word in a string to uppercase and the rest to lowercase."
   ]
  },
  {
   "cell_type": "code",
   "execution_count": 102,
   "id": "6c8f58c7-922a-4e9a-8aff-d0b8afc34e06",
   "metadata": {},
   "outputs": [
    {
     "name": "stdout",
     "output_type": "stream",
     "text": [
      "Hello, World\n"
     ]
    }
   ],
   "source": [
    "s = \"hello, world\"\n",
    "print(s.title())"
   ]
  },
  {
   "cell_type": "markdown",
   "id": "a9af1ccb-d46a-4f93-98c8-717e790f8e1c",
   "metadata": {},
   "source": [
    "6. capitalize() method transforms the first character of the string to uppercase and changes all other characters to lowercase."
   ]
  },
  {
   "cell_type": "code",
   "execution_count": 104,
   "id": "c4d0826a-d823-4b6b-bfd1-a9a110c6e639",
   "metadata": {},
   "outputs": [
    {
     "name": "stdout",
     "output_type": "stream",
     "text": [
      "Universal truth that nothing lasts forever.\n"
     ]
    }
   ],
   "source": [
    "text = \"universal truth that nothing lasts forever.\"\n",
    "print(text.capitalize())"
   ]
  },
  {
   "cell_type": "markdown",
   "id": "e6ab07f1-23d3-481b-a4ce-338249bfe17b",
   "metadata": {},
   "source": [
    "## Regular expression"
   ]
  },
  {
   "cell_type": "markdown",
   "id": "f0afbf11-400b-48bf-8c38-f0ad37a8ff28",
   "metadata": {},
   "source": [
    "1. program to find all occurrences of a specific word, in this case, \"Lorem\""
   ]
  },
  {
   "cell_type": "code",
   "execution_count": 107,
   "id": "07cdd3dc-f991-42bc-bbe3-a9a24db889a7",
   "metadata": {},
   "outputs": [
    {
     "name": "stdout",
     "output_type": "stream",
     "text": [
      "Occurrences of 'Lorem': 2\n"
     ]
    }
   ],
   "source": [
    "import re\n",
    "# 1. Find all occurrences of \"Lorem\"\n",
    "text = \"Lorem Ipsum is simply dummy text of the printing and typesetting industry.Lorem Ipsum has been the industry's standard dummy text ever since the 1500s, when an unknown printer took a galley of type and scrambled it to make a type specimen book. It has survived not only five centuries, but also the leap into electronic typesetting, remaining essentially unchanged.\"\n",
    "\n",
    "count = re.findall(r\"Lorem\", text)\n",
    "print(\"Occurrences of 'Lorem':\", len(count))"
   ]
  },
  {
   "cell_type": "markdown",
   "id": "972a98f2-34fb-48a6-b428-7d6e333f0ba5",
   "metadata": {},
   "source": [
    "2. program to replace all digits with the phrase \"[number]\" to specific dates or numbers."
   ]
  },
  {
   "cell_type": "code",
   "execution_count": 109,
   "id": "83e41d26-bc82-4977-9e54-c20662eab4f6",
   "metadata": {},
   "outputs": [
    {
     "name": "stdout",
     "output_type": "stream",
     "text": [
      "\n",
      "Text with numbers replaced:\n",
      " Lorem Ipsum is simply dummy text of the printing and typesetting industry.Lorem Ipsum has been the industry's standard dummy text ever since the [number][number][number][number]s, when an unknown printer took a galley of type and scrambled it to make a type specimen book. It has survived not only five centuries, but also the leap into electronic typesetting, remaining essentially unchanged.\n"
     ]
    }
   ],
   "source": [
    " # 2. Replace all digits with \"[number]\"\n",
    "import re\n",
    "text = \"Lorem Ipsum is simply dummy text of the printing and typesetting industry.Lorem Ipsum has been the industry's standard dummy text ever since the 1500s, when an unknown printer took a galley of type and scrambled it to make a type specimen book. It has survived not only five centuries, but also the leap into electronic typesetting, remaining essentially unchanged.\"\n",
    "numbers_hide = re.sub(r\"\\d\", \"[number]\", text)\n",
    "print(\"\\nText with numbers replaced:\\n\", numbers_hide)"
   ]
  },
  {
   "cell_type": "markdown",
   "id": "2adb416b-b933-44dc-90aa-c46aea0e2316",
   "metadata": {},
   "source": [
    "3. Extract sentences that contain the word \"industry\"."
   ]
  },
  {
   "cell_type": "code",
   "execution_count": 111,
   "id": "90fda1c7-f69d-443e-88a1-f83dd05a123d",
   "metadata": {},
   "outputs": [
    {
     "data": {
      "text/plain": [
       "['Lorem Ipsum is simply dummy text of the printing and typesetting industry.',\n",
       " \"Lorem Ipsum has been the industry's standard dummy text ever since the 1500s, when an unknown printer took a galley of type and scrambled it to make a type specimen book.\"]"
      ]
     },
     "execution_count": 111,
     "metadata": {},
     "output_type": "execute_result"
    }
   ],
   "source": [
    "import re\n",
    "text = \"Lorem Ipsum is simply dummy text of the printing and typesetting industry.Lorem Ipsum has been the industry's standard dummy text ever since the 1500s, when an unknown printer took a galley of type and scrambled it to make a type specimen book. It has survived not only five centuries, but also the leap into electronic typesetting, remaining essentially unchanged.\"\n",
    "extract_industry = re.findall(r\"[^.]*?industry[^.]*\\.\", text)\n",
    "extract_industry"
   ]
  },
  {
   "cell_type": "markdown",
   "id": "eb1e8808-409e-41ae-b605-adf93564d50e",
   "metadata": {},
   "source": [
    "4. program to count the number of sentences in a given paragraph"
   ]
  },
  {
   "cell_type": "code",
   "execution_count": 113,
   "id": "c5ccced9-8d16-460f-9883-0b8f3eb4cd5f",
   "metadata": {},
   "outputs": [
    {
     "name": "stdout",
     "output_type": "stream",
     "text": [
      "The number of sentences in a given paragraph: 2\n"
     ]
    }
   ],
   "source": [
    "# Counting the number of sentences\n",
    "import re\n",
    "text = \"Lorem Ipsum is simply dummy text of the printing and typesetting industry.Lorem Ipsum has been the industry's standard dummy text ever since the 1500s, when an unknown printer took a galley of type and scrambled it to make a type specimen book. It has survived not only five centuries, but also the leap into electronic typesetting, remaining essentially unchanged.\"\n",
    "sentence_count = len(re.findall(r'\\.\\s', text)) + 1 \n",
    "print(\"The number of sentences in a given paragraph:\",sentence_count)"
   ]
  },
  {
   "cell_type": "markdown",
   "id": "5197a803-bdf4-45a0-9b38-d6c5bd638984",
   "metadata": {},
   "source": [
    "5. Replacing all instances of 'Lorem' with 'Found'i.e it replaces each occurrence of \"Lorem\" with \"Found\", demonstrating how regex can be used for text replacement operations"
   ]
  },
  {
   "cell_type": "code",
   "execution_count": 115,
   "id": "6534a252-8719-44b0-bfb3-f400d40a1d96",
   "metadata": {},
   "outputs": [
    {
     "data": {
      "text/plain": [
       "\"Found Ipsum is simply dummy text of the printing and typesetting industry.Found Ipsum has been the industry's standard dummy text ever since the 1500s, when an unknown printer took a galley of type and scrambled it to make a type specimen book. It has survived not only five centuries, but also the leap into electronic typesetting, remaining essentially unchanged.\""
      ]
     },
     "execution_count": 115,
     "metadata": {},
     "output_type": "execute_result"
    }
   ],
   "source": [
    "import re\n",
    "text = \"Lorem Ipsum is simply dummy text of the printing and typesetting industry.Lorem Ipsum has been the industry's standard dummy text ever since the 1500s, when an unknown printer took a galley of type and scrambled it to make a type specimen book. It has survived not only five centuries, but also the leap into electronic typesetting, remaining essentially unchanged.\"\n",
    "text_replace = re.sub(r'Lorem', 'Found', text)\n",
    "text_replace "
   ]
  },
  {
   "cell_type": "markdown",
   "id": "bb7c3499-0235-4b2c-bc2f-ee4d223410e6",
   "metadata": {},
   "source": [
    "6. Search for any word starting with 't' and ending in 'e'"
   ]
  },
  {
   "cell_type": "code",
   "execution_count": 117,
   "id": "06b5487a-38f5-479e-8455-cea13344f821",
   "metadata": {},
   "outputs": [
    {
     "data": {
      "text/plain": [
       "['the', 'the', 'the', 'type', 'type', 'the']"
      ]
     },
     "execution_count": 117,
     "metadata": {},
     "output_type": "execute_result"
    }
   ],
   "source": [
    "#Search for any word starting with 't' and ending in 'e'\n",
    "import re\n",
    "text = \"Lorem Ipsum is simply dummy text of the printing and typesetting industry.Lorem Ipsum has been the industry's standard dummy text ever since the 1500s, when an unknown printer took a galley of type and scrambled it to make a type specimen book. It has survived not only five centuries, but also the leap into electronic typesetting, remaining essentially unchanged.\"\n",
    "words = re.findall(r\"\\bt[a-z]*e\\b\", text)\n",
    "words"
   ]
  },
  {
   "cell_type": "markdown",
   "id": "e95fb136-9c6f-4612-ae94-6386a2cd75d8",
   "metadata": {},
   "source": [
    "7. program to identify the word which is followed by comma"
   ]
  },
  {
   "cell_type": "code",
   "execution_count": 119,
   "id": "4a2daed0-2363-4052-a140-0c5b4c257c79",
   "metadata": {},
   "outputs": [
    {
     "data": {
      "text/plain": [
       "['1500s', 'centuries', 'typesetting']"
      ]
     },
     "execution_count": 119,
     "metadata": {},
     "output_type": "execute_result"
    }
   ],
   "source": [
    "# Identifying any word followed by a comma\n",
    "import re\n",
    "text = \"Lorem Ipsum is simply dummy text of the printing and typesetting industry.Lorem Ipsum has been the industry's standard dummy text ever since the 1500s, when an unknown printer took a galley of type and scrambled it to make a type specimen book. It has survived not only five centuries, but also the leap into electronic typesetting, remaining essentially unchanged.\"\n",
    "words_before_comma = re.findall(r'\\b(\\w+),', text)\n",
    "words_before_comma"
   ]
  },
  {
   "cell_type": "markdown",
   "id": "df44092d-c65e-47c0-a25a-046beb75de8d",
   "metadata": {},
   "source": [
    "8. Matching Email Addresses uses the regex pattern [a-zA-Z0-9._%+-]+@[a-zA-Z0-9.-]+.[a-zA-Z]{2,}, we aim to find all email addresses in the text."
   ]
  },
  {
   "cell_type": "code",
   "execution_count": 121,
   "id": "60d72eb7-9aa8-4fb8-80c2-2a24c43c32bd",
   "metadata": {},
   "outputs": [
    {
     "name": "stdout",
     "output_type": "stream",
     "text": [
      "Email addresses found: ['jane.doe@example.com', 'john.smith@workplace.org', 'contact@ourteam.net']\n"
     ]
    }
   ],
   "source": [
    "text = \"Contact information for our team: Jane Doe - jane.doe@example.com, John Smith - john.smith@workplace.org. We are committed to maintaining the highest standards in our industry. Our team has grown significantly since the 2000s, embodying excellence and innovation. Feel free to reach out at contact@ourteam.net for more information. Stay updated and unchanged.\"\n",
    "\n",
    "# Matching email addresses\n",
    "emails = re.findall(r'[a-zA-Z0-9._%+-]+@[a-zA-Z0-9.-]+\\.[a-zA-Z]{2,}', text)\n",
    "print(\"Email addresses found:\", emails)"
   ]
  }
 ],
 "metadata": {
  "kernelspec": {
   "display_name": "anaconda-panel-2023.05-py310",
   "language": "python",
   "name": "conda-env-anaconda-panel-2023.05-py310-py"
  },
  "language_info": {
   "codemirror_mode": {
    "name": "ipython",
    "version": 3
   },
   "file_extension": ".py",
   "mimetype": "text/x-python",
   "name": "python",
   "nbconvert_exporter": "python",
   "pygments_lexer": "ipython3",
   "version": "3.11.5"
  }
 },
 "nbformat": 4,
 "nbformat_minor": 5
}
