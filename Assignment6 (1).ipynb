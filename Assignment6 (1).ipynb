{
 "cells": [
  {
   "cell_type": "markdown",
   "id": "ab897869-2ce9-44ea-9c03-0700fa03a064",
   "metadata": {},
   "source": [
    "# TEXT-BASED ANALYSIS CS-651-A\n",
    "# Vineeth Anumula"
   ]
  },
  {
   "cell_type": "markdown",
   "id": "805e619f",
   "metadata": {},
   "source": [
    "## **TEXT SUMMERIZATION**"
   ]
  },
  {
   "cell_type": "markdown",
   "id": "1f6774f3",
   "metadata": {},
   "source": [
    "**EXAMPLE TEXT-1**"
   ]
  },
  {
   "cell_type": "code",
   "execution_count": 1,
   "id": "d5803bfd",
   "metadata": {},
   "outputs": [],
   "source": [
    "from nltk.corpus import stopwords #you can remove stop words for Speed\n",
    "from nltk.cluster.util import cosine_distance\n",
    "import numpy as np\n",
    "import networkx as nx"
   ]
  },
  {
   "cell_type": "code",
   "execution_count": 10,
   "id": "3f5546c8",
   "metadata": {},
   "outputs": [
    {
     "name": "stdout",
     "output_type": "stream",
     "text": [
      "Original Sentences:\n",
      "It was the best of times\n",
      "It was the worst of times\n",
      "It was the age of wisdom\n",
      "It was the age of foolishness\n",
      "What is the importance of age\n",
      "This is the best example\n",
      "\n",
      "Kannada Translations:\n",
      "ಇದು ಅತ್ಯುತ್ತಮ ಸಮಯವಾಗಿತ್ತು\n",
      "ಇದು ಕೆಟ್ಟ ಸಮಯವಾಗಿತ್ತು\n",
      "ಅದು ಬುದ್ಧಿವಂತಿಕೆಯ ಯುಗ\n",
      "ಅದು ಮೂರ್ಖತನದ ವಯಸ್ಸು\n",
      "ವಯಸ್ಸಿನ ಪ್ರಾಮುಖ್ಯತೆ ಏನು\n",
      "ಇದು ಅತ್ಯುತ್ತಮ ಉದಾಹರಣೆ\n",
      "\n",
      "Hindi Translations:\n",
      "वह सबसे अच्छा समय था\n",
      "यह सबसे खराब समय था\n",
      "यह ज्ञान की उम्र थी\n",
      "यह मूर्खता की उम्र थी\n",
      "उम्र का महत्व क्या है\n",
      "यह सबसे अच्छा उदाहरण है\n"
     ]
    }
   ],
   "source": [
    "import re\n",
    "from googletrans import Translator\n",
    "\n",
    "# Function to clean and translate sentences\n",
    "def process_and_translate(file_path):\n",
    "    # Open the file and read data\n",
    "    with open(file_path, \"r\") as file:\n",
    "        filedata = file.readlines()\n",
    "\n",
    "    # Assuming the first paragraph is the first line, split by \". \"\n",
    "    article = filedata[0].split(\". \")\n",
    "    sentences = [re.sub(\"[^a-zA-Z ]\", \"\", sentence).strip() for sentence in article if sentence.strip()]  # Clean each sentence\n",
    "\n",
    "    # Create a translator object\n",
    "    translator = Translator()\n",
    "\n",
    "    # Translate sentences to Kannada and Hindi\n",
    "    kannada_sentences = [translator.translate(sentence, dest='kn').text for sentence in sentences if sentence]\n",
    "    hindi_sentences = [translator.translate(sentence, dest='hi').text for sentence in sentences if sentence]\n",
    "\n",
    "    # Print original and translated sentences\n",
    "    print(\"Original Sentences:\")\n",
    "    for sentence in sentences:\n",
    "        print(sentence)\n",
    "\n",
    "    print(\"\\nKannada Translations:\")\n",
    "    for kannada_sentence in kannada_sentences:\n",
    "        print(kannada_sentence)\n",
    "\n",
    "    print(\"\\nHindi Translations:\")\n",
    "    for hindi_sentence in hindi_sentences:\n",
    "        print(hindi_sentence)\n",
    "\n",
    "# Path to the text file\n",
    "file_path = \"Text1.txt\"\n",
    "\n",
    "# Call the function\n",
    "process_and_translate(file_path)\n"
   ]
  },
  {
   "cell_type": "code",
   "execution_count": 3,
   "id": "f26212f0",
   "metadata": {},
   "outputs": [
    {
     "name": "stdout",
     "output_type": "stream",
     "text": [
      "Sentences are  [['It', 'was', 'the', 'best', 'of', 'times'], ['It', 'was', 'the', 'worst', 'of', 'times'], ['It', 'was', 'the', 'age', 'of', 'wisdom'], ['It', 'was', 'the', 'age', 'of', 'foolishness'], ['What', 'is', 'the', 'importance', 'of', 'age'], ['This', 'is', 'the', 'best', 'example.']]\n"
     ]
    }
   ],
   "source": [
    "print(\"Sentences are \", sentences)"
   ]
  },
  {
   "cell_type": "code",
   "execution_count": 4,
   "id": "65db1be8",
   "metadata": {},
   "outputs": [],
   "source": [
    "def sentence_similarity(sent1, sent2 ):\n",
    "    sent1 = [w.lower() for w in sent1]\n",
    "    sent2 = [w.lower() for w in sent2]\n",
    "    all_words = list(set(sent1 + sent2))\n",
    "    vector1 = [0] * len(all_words)\n",
    "    vector2 = [0] * len(all_words)\n",
    "   # build the vector for the first sentence\n",
    "    for w in sent1:\n",
    "        vector1[all_words.index(w)] += 1\n",
    "    # build the vector for the second sentence\n",
    "    for w in sent2:\n",
    "        vector2[all_words.index(w)] += 1\n",
    "    return 1 - cosine_distance(vector1, vector2)"
   ]
  },
  {
   "cell_type": "code",
   "execution_count": 5,
   "id": "723eb0be",
   "metadata": {},
   "outputs": [
    {
     "name": "stdout",
     "output_type": "stream",
     "text": [
      "Smilarity matrix \n",
      " [[0.         0.83333333 0.66666667 0.66666667 0.33333333 0.36514837]\n",
      " [0.83333333 0.         0.66666667 0.66666667 0.33333333 0.18257419]\n",
      " [0.66666667 0.66666667 0.         0.83333333 0.5        0.18257419]\n",
      " [0.66666667 0.66666667 0.83333333 0.         0.5        0.18257419]\n",
      " [0.33333333 0.33333333 0.5        0.5        0.         0.36514837]\n",
      " [0.36514837 0.18257419 0.18257419 0.18257419 0.36514837 0.        ]]\n"
     ]
    }
   ],
   "source": [
    "similarity_matrix = np.zeros((len(sentences), len(sentences)))\n",
    "\n",
    "for idx1 in range(len(sentences)):\n",
    "        for idx2 in range(len(sentences)):\n",
    "             if idx1 == idx2: #ignore if both are same sentences\n",
    "                continue\n",
    "             similarity_matrix[idx1][idx2] = sentence_similarity(sentences[idx1],sentences[idx2])\n",
    "print(\"Smilarity matrix \\n\", similarity_matrix)"
   ]
  },
  {
   "cell_type": "code",
   "execution_count": 6,
   "id": "2f0e9709",
   "metadata": {},
   "outputs": [
    {
     "name": "stdout",
     "output_type": "stream",
     "text": [
      "scores {0: 0.19306449754902083, 1: 0.18095893645850156, 2: 0.1911855225552033, 3: 0.1911855225552033, 4: 0.14434636291527997, 5: 0.09925915796679063}\n"
     ]
    }
   ],
   "source": [
    "# Step 3 - Rank sentences in similarity martix\n",
    "sentence_similarity_graph =nx.from_numpy_array(similarity_matrix)\n",
    "scores = nx.pagerank(sentence_similarity_graph)\n",
    "print(\"scores\", scores)"
   ]
  },
  {
   "cell_type": "code",
   "execution_count": 7,
   "id": "d3dc0ece",
   "metadata": {},
   "outputs": [
    {
     "name": "stdout",
     "output_type": "stream",
     "text": [
      "Indexes of top ranked_sentence order are \n",
      "\n",
      " [(0.19306449754902083, ['It', 'was', 'the', 'best', 'of', 'times']), (0.1911855225552033, ['It', 'was', 'the', 'age', 'of', 'wisdom']), (0.1911855225552033, ['It', 'was', 'the', 'age', 'of', 'foolishness']), (0.18095893645850156, ['It', 'was', 'the', 'worst', 'of', 'times']), (0.14434636291527997, ['What', 'is', 'the', 'importance', 'of', 'age']), (0.09925915796679063, ['This', 'is', 'the', 'best', 'example.'])]\n"
     ]
    }
   ],
   "source": [
    "# Step 4 - Sort the rank and pick top sentences\n",
    "ranked_sentence = sorted(((scores[i],s) for i,s in enumerate(sentences)), reverse=True)\n",
    "print(\"Indexes of top ranked_sentence order are \\n\\n\",ranked_sentence)"
   ]
  },
  {
   "cell_type": "code",
   "execution_count": 8,
   "id": "0e5b2f10",
   "metadata": {},
   "outputs": [
    {
     "name": "stdout",
     "output_type": "stream",
     "text": [
      "How many sentences do you want in the summary? 3\n"
     ]
    }
   ],
   "source": [
    "#Step 5 - How many sentences to pick\n",
    "n = int(input(\"How many sentences do you want in the summary? \"))\n",
    "#n=2\n",
    "summarize_text = []\n",
    "for i in range(n):\n",
    "    summarize_text.append(\" \".join(ranked_sentence[i][1]))"
   ]
  },
  {
   "cell_type": "code",
   "execution_count": 9,
   "id": "47aaa2f2",
   "metadata": {},
   "outputs": [
    {
     "name": "stdout",
     "output_type": "stream",
     "text": [
      "Summarize Text: \n",
      " It was the best of times. It was the age of wisdom. It was the age of foolishness\n"
     ]
    }
   ],
   "source": [
    "# Step 6 - Offcourse, output the summarize text\n",
    "print(\"Summarize Text: \\n\", \". \".join(summarize_text))"
   ]
  },
  {
   "cell_type": "markdown",
   "id": "f5e5f662",
   "metadata": {},
   "source": [
    "**EXAMPLE TEXT-2:**"
   ]
  },
  {
   "cell_type": "code",
   "execution_count": 10,
   "id": "93e86c5b",
   "metadata": {},
   "outputs": [],
   "source": [
    "from nltk.corpus import stopwords #you can remove stop words for Speed\n",
    "from nltk.cluster.util import cosine_distance\n",
    "import numpy as np\n",
    "import networkx as nx"
   ]
  },
  {
   "cell_type": "code",
   "execution_count": 12,
   "id": "aa24f4ae",
   "metadata": {},
   "outputs": [
    {
     "name": "stdout",
     "output_type": "stream",
     "text": [
      "Original Sentences:\n",
      "I AM SAM\n",
      "I AM SAM\n",
      "SAM I AM\n",
      "THAT SAMIAM THAT SAMIAM\n",
      "I DO NOT LIKE THAT SAMIAM\n",
      "DO WOULD YOU LIKE GREEN EGGS AND HAM\n",
      "I DO NOT LIKE THEM SAMIAM\n",
      "I DO NOT LIKE GREEN EGGS AND HAM\n",
      "WOULD YOU LIKE THEM HERE OR THERE\n",
      "I WOULD NOT LIKE THEM HERE OR THERE\n",
      "I WOULD NOT LIKE THEM ANYWHERE\n",
      "I DO NOT LIKE GREEN EGGS AND HAM\n",
      "I DO NOT LIKE THEM SAMIAM\n",
      "WOULD YOU LIKE THEM IN A HOUSE\n",
      "WOULD YOU LIKE THEN WITH A MOUSE\n",
      "I DO NOT LIKE THEM IN A HOUSE\n",
      "I DO NOT LIKE THEM WITH A MOUSE\n",
      "I DO NOT LIKE THEM HERE OR THERE\n",
      "I DO NOT LIKE THEM ANYWHERE\n",
      "I DO NOT LIKE GREEN EGGS AND HAM\n",
      "I DO NOT LIKE THEM SAMIAM\n",
      "\n",
      "Kannada Translations:\n",
      "ನಾ ನು ಸ್ಯಾ ಮ್\n",
      "ನಾ ನು ಸ್ಯಾ ಮ್\n",
      "ಸ್ಯಾಮ್ ನಾನು\n",
      "ಆ ಸಮಿಯಮ್ ಆ ಸಮಿಯಮ್\n",
      "ನನಗೆ ಆ ಸಮಿಯಮ್ ಇಷ್ಟವಿಲ್ಲ\n",
      "ನೀವು ಹಸಿರು ಮೊಟ್ಟೆಗಳು ಮತ್ತು ಹ್ಯಾಮ್ ಬಯಸುತ್ತೀರಾ\n",
      "ನಾನು ಅವರನ್ನು ಇಷ್ಟಪಡುವುದಿಲ್ಲ ಸಮಿಯಮ್\n",
      "ನನಗೆ ಹಸಿರು ಮೊಟ್ಟೆಗಳು ಮತ್ತು ಹ್ಯಾಮ್ ಇಷ್ಟವಿಲ್ಲ\n",
      "ನೀವು ಅವರನ್ನು ಇಲ್ಲಿ ಅಥವಾ ಅಲ್ಲಿ ಬಯಸುವಿರಾ\n",
      "ನಾನು ಅವರನ್ನು ಇಲ್ಲಿ ಅಥವಾ ಅಲ್ಲಿ ಇಷ್ಟಪಡುವುದಿಲ್ಲ\n",
      "ನಾನು ಅವರನ್ನು ಎಲ್ಲಿಯೂ ಇಷ್ಟಪಡುವುದಿಲ್ಲ\n",
      "ನನಗೆ ಹಸಿರು ಮೊಟ್ಟೆಗಳು ಮತ್ತು ಹ್ಯಾಮ್ ಇಷ್ಟವಿಲ್ಲ\n",
      "ನಾನು ಅವರನ್ನು ಇಷ್ಟಪಡುವುದಿಲ್ಲ ಸಮಿಯಮ್\n",
      "ನೀವು ಅವರನ್ನು ಮನೆಯಲ್ಲಿ ಬಯಸುತ್ತೀರಾ\n",
      "ನೀವು ನಂತರ ಇಲಿಯೊಂದಿಗೆ ಬಯಸುವಿರಾ\n",
      "ನಾನು ಅವರನ್ನು ಮನೆಯಲ್ಲಿ ಇಷ್ಟಪಡುವುದಿಲ್ಲ\n",
      "ನಾನು ಇಲಿಯೊಂದಿಗೆ ಅವರನ್ನು ಇಷ್ಟಪಡುವುದಿಲ್ಲ\n",
      "ನಾನು ಅವರನ್ನು ಇಲ್ಲಿ ಅಥವಾ ಅಲ್ಲಿ ಇಷ್ಟಪಡುವುದಿಲ್ಲ\n",
      "ನಾನು ಅವರನ್ನು ಎಲ್ಲಿಯೂ ಇಷ್ಟಪಡುವುದಿಲ್ಲ\n",
      "ನನಗೆ ಹಸಿರು ಮೊಟ್ಟೆಗಳು ಮತ್ತು ಹ್ಯಾಮ್ ಇಷ್ಟವಿಲ್ಲ\n",
      "ನಾನು ಅವರನ್ನು ಇಷ್ಟಪಡುವುದಿಲ್ಲ ಸಮಿಯಮ್\n",
      "\n",
      "Hindi Translations:\n",
      "मैं सैम हूं\n",
      "मैं सैम हूं\n",
      "सैम मैं हूँ\n",
      "वह समियम कि समि\n",
      "मुझे वह समि पसंद नहीं है\n",
      "क्या आप हरे अंडे और हैम पसंद करेंगे\n",
      "मैं उन्हें samiam पसंद नहीं करता\n",
      "मुझे हरे अंडे और हैम पसंद नहीं है\n",
      "क्या आप उन्हें यहाँ या वहाँ पसंद करेंगे\n",
      "मैं उन्हें यहाँ या वहाँ पसंद नहीं करूंगा\n",
      "मैं उन्हें कहीं भी पसंद नहीं करूंगा\n",
      "मुझे हरे अंडे और हैम पसंद नहीं है\n",
      "मैं उन्हें samiam पसंद नहीं करता\n",
      "क्या आप उन्हें एक घर में पसंद करेंगे\n",
      "क्या आप तब एक माउस के साथ चाहेंगे\n",
      "मैं उन्हें एक घर में पसंद नहीं करता\n",
      "मैं उन्हें माउस के साथ पसंद नहीं करता\n",
      "मैं उन्हें यहाँ या वहाँ पसंद नहीं करता\n",
      "मैं उन्हें कहीं भी पसंद नहीं करता\n",
      "मुझे हरे अंडे और हैम पसंद नहीं है\n",
      "मैं उन्हें samiam पसंद नहीं करता\n"
     ]
    }
   ],
   "source": [
    "import re\n",
    "from googletrans import Translator\n",
    "\n",
    "def translate_text(file_path):\n",
    "    # Open the file and read data\n",
    "    with open(file_path, \"r\") as file:\n",
    "        filedata = file.readlines()\n",
    "\n",
    "    # Assuming the first paragraph is the first line, split by \". \"\n",
    "    article = filedata[0].split(\". \")\n",
    "    sentences = [re.sub(\"[^a-zA-Z ]\", \"\", sentence).strip() for sentence in article if sentence.strip()]  # Clean each sentence\n",
    "\n",
    "    # Create a translator object\n",
    "    translator = Translator()\n",
    "\n",
    "    # Translate sentences to Kannada and Hindi\n",
    "    kannada_sentences = [translator.translate(sentence, dest='kn').text for sentence in sentences if sentence]\n",
    "    hindi_sentences = [translator.translate(sentence, dest='hi').text for sentence in sentences if sentence]\n",
    "\n",
    "    # Print original and translated sentences\n",
    "    print(\"Original Sentences:\")\n",
    "    for sentence in sentences:\n",
    "        print(sentence)\n",
    "\n",
    "    print(\"\\nKannada Translations:\")\n",
    "    for kannada_sentence in kannada_sentences:\n",
    "        print(kannada_sentence)\n",
    "\n",
    "    print(\"\\nHindi Translations:\")\n",
    "    for hindi_sentence in hindi_sentences:\n",
    "        print(hindi_sentence)\n",
    "\n",
    "# Path to the text file\n",
    "file_path = \"Text2.txt\"\n",
    "\n",
    "# Call the function\n",
    "translate_text(file_path)\n"
   ]
  },
  {
   "cell_type": "code",
   "execution_count": 12,
   "id": "ac25fafd",
   "metadata": {},
   "outputs": [
    {
     "name": "stdout",
     "output_type": "stream",
     "text": [
      "Sentences are  [['I', 'AM', 'SAM'], ['I', 'AM', 'SAM'], ['SAM', 'I', 'AM'], ['THAT', 'SAM-I-AM!', 'THAT', 'SAM-I-AM!'], ['I', 'DO', 'NOT', 'LIKE', 'THAT', 'SAM-I-AM!'], ['DO', 'WOULD', 'YOU', 'LIKE', 'GREEN', 'EGGS', 'AND', 'HAM?'], ['I', 'DO', 'NOT', 'LIKE', 'THEM,', 'SAM-I-AM'], ['I', 'DO', 'NOT', 'LIKE', 'GREEN', 'EGGS', 'AND', 'HAM'], ['WOULD', 'YOU', 'LIKE', 'THEM', 'HERE', 'OR', 'THERE?'], ['I', 'WOULD', 'NOT', 'LIKE', 'THEM', 'HERE', 'OR', 'THERE'], ['I', 'WOULD', 'NOT', 'LIKE', 'THEM', 'ANYWHERE'], ['I', 'DO', 'NOT', 'LIKE', 'GREEN', 'EGGS', 'AND', 'HAM'], ['I', 'DO', 'NOT', 'LIKE', 'THEM,', 'SAM-I-AM'], ['WOULD', 'YOU', 'LIKE', 'THEM', 'IN', 'A', 'HOUSE?'], ['WOULD', 'YOU', 'LIKE', 'THEN', 'WITH', 'A', 'MOUSE?'], ['I', 'DO', 'NOT', 'LIKE', 'THEM', 'IN', 'A', 'HOUSE'], ['I', 'DO', 'NOT', 'LIKE', 'THEM', 'WITH', 'A', 'MOUSE'], ['I', 'DO', 'NOT', 'LIKE', 'THEM', 'HERE', 'OR', 'THERE'], ['I', 'DO', 'NOT', 'LIKE', 'THEM', 'ANYWHERE'], ['I', 'DO', 'NOT', 'LIKE', 'GREEN', 'EGGS', 'AND', 'HAM'], ['I', 'DO', 'NOT', 'LIKE', 'THEM,', 'SAM-I-AM.\\n']]\n"
     ]
    }
   ],
   "source": [
    "print(\"Sentences are \", sentences)"
   ]
  },
  {
   "cell_type": "code",
   "execution_count": 13,
   "id": "3efed690",
   "metadata": {},
   "outputs": [],
   "source": [
    "def sentence_similarity(sent1, sent2 ):\n",
    "    sent1 = [w.lower() for w in sent1]\n",
    "    sent2 = [w.lower() for w in sent2]\n",
    "    all_words = list(set(sent1 + sent2))\n",
    "    vector1 = [0] * len(all_words)\n",
    "    vector2 = [0] * len(all_words)\n",
    "   # build the vector for the first sentence\n",
    "    for w in sent1:\n",
    "        vector1[all_words.index(w)] += 1\n",
    "    # build the vector for the second sentence\n",
    "    for w in sent2:\n",
    "        vector2[all_words.index(w)] += 1\n",
    "    return 1 - cosine_distance(vector1, vector2)"
   ]
  },
  {
   "cell_type": "code",
   "execution_count": 14,
   "id": "84f4d196",
   "metadata": {},
   "outputs": [
    {
     "name": "stdout",
     "output_type": "stream",
     "text": [
      "Smilarity matrix \n",
      " [[0.         1.         1.         0.         0.23570226 0.\n",
      "  0.23570226 0.20412415 0.         0.20412415 0.23570226 0.20412415\n",
      "  0.23570226 0.         0.         0.20412415 0.20412415 0.20412415\n",
      "  0.23570226 0.20412415 0.23570226]\n",
      " [1.         0.         1.         0.         0.23570226 0.\n",
      "  0.23570226 0.20412415 0.         0.20412415 0.23570226 0.20412415\n",
      "  0.23570226 0.         0.         0.20412415 0.20412415 0.20412415\n",
      "  0.23570226 0.20412415 0.23570226]\n",
      " [1.         1.         0.         0.         0.23570226 0.\n",
      "  0.23570226 0.20412415 0.         0.20412415 0.23570226 0.20412415\n",
      "  0.23570226 0.         0.         0.20412415 0.20412415 0.20412415\n",
      "  0.23570226 0.20412415 0.23570226]\n",
      " [0.         0.         0.         0.         0.57735027 0.\n",
      "  0.         0.         0.         0.         0.         0.\n",
      "  0.         0.         0.         0.         0.         0.\n",
      "  0.         0.         0.        ]\n",
      " [0.23570226 0.23570226 0.23570226 0.57735027 0.         0.28867513\n",
      "  0.66666667 0.57735027 0.15430335 0.4330127  0.5        0.57735027\n",
      "  0.66666667 0.15430335 0.15430335 0.57735027 0.57735027 0.57735027\n",
      "  0.66666667 0.57735027 0.66666667]\n",
      " [0.         0.         0.         0.         0.28867513 0.\n",
      "  0.28867513 0.625      0.40089186 0.25       0.28867513 0.625\n",
      "  0.28867513 0.40089186 0.40089186 0.25       0.25       0.25\n",
      "  0.28867513 0.625      0.28867513]\n",
      " [0.23570226 0.23570226 0.23570226 0.         0.66666667 0.28867513\n",
      "  0.         0.57735027 0.15430335 0.4330127  0.5        0.57735027\n",
      "  1.         0.15430335 0.15430335 0.57735027 0.57735027 0.57735027\n",
      "  0.66666667 0.57735027 0.83333333]\n",
      " [0.20412415 0.20412415 0.20412415 0.         0.57735027 0.625\n",
      "  0.57735027 0.         0.13363062 0.375      0.4330127  1.\n",
      "  0.57735027 0.13363062 0.13363062 0.5        0.5        0.5\n",
      "  0.57735027 1.         0.57735027]\n",
      " [0.         0.         0.         0.         0.15430335 0.40089186\n",
      "  0.15430335 0.13363062 0.         0.6681531  0.46291005 0.13363062\n",
      "  0.15430335 0.57142857 0.42857143 0.26726124 0.26726124 0.53452248\n",
      "  0.3086067  0.13363062 0.15430335]\n",
      " [0.20412415 0.20412415 0.20412415 0.         0.4330127  0.25\n",
      "  0.4330127  0.375      0.6681531  0.         0.72168784 0.375\n",
      "  0.4330127  0.40089186 0.26726124 0.5        0.5        0.875\n",
      "  0.57735027 0.375      0.4330127 ]\n",
      " [0.23570226 0.23570226 0.23570226 0.         0.5        0.28867513\n",
      "  0.5        0.4330127  0.46291005 0.72168784 0.         0.4330127\n",
      "  0.5        0.46291005 0.3086067  0.57735027 0.57735027 0.57735027\n",
      "  0.83333333 0.4330127  0.5       ]\n",
      " [0.20412415 0.20412415 0.20412415 0.         0.57735027 0.625\n",
      "  0.57735027 1.         0.13363062 0.375      0.4330127  0.\n",
      "  0.57735027 0.13363062 0.13363062 0.5        0.5        0.5\n",
      "  0.57735027 1.         0.57735027]\n",
      " [0.23570226 0.23570226 0.23570226 0.         0.66666667 0.28867513\n",
      "  1.         0.57735027 0.15430335 0.4330127  0.5        0.57735027\n",
      "  0.         0.15430335 0.15430335 0.57735027 0.57735027 0.57735027\n",
      "  0.66666667 0.57735027 0.83333333]\n",
      " [0.         0.         0.         0.         0.15430335 0.40089186\n",
      "  0.15430335 0.13363062 0.57142857 0.40089186 0.46291005 0.13363062\n",
      "  0.15430335 0.         0.57142857 0.53452248 0.40089186 0.26726124\n",
      "  0.3086067  0.13363062 0.15430335]\n",
      " [0.         0.         0.         0.         0.15430335 0.40089186\n",
      "  0.15430335 0.13363062 0.42857143 0.26726124 0.3086067  0.13363062\n",
      "  0.15430335 0.57142857 0.         0.26726124 0.40089186 0.13363062\n",
      "  0.15430335 0.13363062 0.15430335]\n",
      " [0.20412415 0.20412415 0.20412415 0.         0.57735027 0.25\n",
      "  0.57735027 0.5        0.26726124 0.5        0.57735027 0.5\n",
      "  0.57735027 0.53452248 0.26726124 0.         0.75       0.625\n",
      "  0.72168784 0.5        0.57735027]\n",
      " [0.20412415 0.20412415 0.20412415 0.         0.57735027 0.25\n",
      "  0.57735027 0.5        0.26726124 0.5        0.57735027 0.5\n",
      "  0.57735027 0.40089186 0.40089186 0.75       0.         0.625\n",
      "  0.72168784 0.5        0.57735027]\n",
      " [0.20412415 0.20412415 0.20412415 0.         0.57735027 0.25\n",
      "  0.57735027 0.5        0.53452248 0.875      0.57735027 0.5\n",
      "  0.57735027 0.26726124 0.13363062 0.625      0.625      0.\n",
      "  0.72168784 0.5        0.57735027]\n",
      " [0.23570226 0.23570226 0.23570226 0.         0.66666667 0.28867513\n",
      "  0.66666667 0.57735027 0.3086067  0.57735027 0.83333333 0.57735027\n",
      "  0.66666667 0.3086067  0.15430335 0.72168784 0.72168784 0.72168784\n",
      "  0.         0.57735027 0.66666667]\n",
      " [0.20412415 0.20412415 0.20412415 0.         0.57735027 0.625\n",
      "  0.57735027 1.         0.13363062 0.375      0.4330127  1.\n",
      "  0.57735027 0.13363062 0.13363062 0.5        0.5        0.5\n",
      "  0.57735027 0.         0.57735027]\n",
      " [0.23570226 0.23570226 0.23570226 0.         0.66666667 0.28867513\n",
      "  0.83333333 0.57735027 0.15430335 0.4330127  0.5        0.57735027\n",
      "  0.83333333 0.15430335 0.15430335 0.57735027 0.57735027 0.57735027\n",
      "  0.66666667 0.57735027 0.        ]]\n"
     ]
    }
   ],
   "source": [
    "similarity_matrix = np.zeros((len(sentences), len(sentences)))\n",
    "\n",
    "for idx1 in range(len(sentences)):\n",
    "        for idx2 in range(len(sentences)):\n",
    "             if idx1 == idx2: #ignore if both are same sentences\n",
    "                continue\n",
    "             similarity_matrix[idx1][idx2] = sentence_similarity(sentences[idx1],sentences[idx2])\n",
    "print(\"Smilarity matrix \\n\", similarity_matrix)"
   ]
  },
  {
   "cell_type": "code",
   "execution_count": 15,
   "id": "0adfe007",
   "metadata": {},
   "outputs": [
    {
     "name": "stdout",
     "output_type": "stream",
     "text": [
      "scores {0: 0.03492638917817515, 1: 0.03492638917817515, 2: 0.03492638917817515, 3: 0.010552425887368076, 4: 0.06321847556853293, 5: 0.03960609463088077, 6: 0.057289451630209653, 7: 0.056226314678287335, 8: 0.03486412173792891, 9: 0.053338934277549654, 10: 0.0566062415473087, 11: 0.056226314678287335, 12: 0.05728945163020967, 13: 0.0350182718613405, 14: 0.02940805086606966, 15: 0.056983599690836606, 16: 0.05702071446687991, 17: 0.057531865612924, 18: 0.06143601920162538, 19: 0.056226314678287335, 20: 0.05637816982094812}\n"
     ]
    }
   ],
   "source": [
    "# Step 3 - Rank sentences in similarity martix\n",
    "sentence_similarity_graph =nx.from_numpy_array(similarity_matrix)\n",
    "scores = nx.pagerank(sentence_similarity_graph)\n",
    "print(\"scores\", scores)"
   ]
  },
  {
   "cell_type": "code",
   "execution_count": 16,
   "id": "e2a5cb5d",
   "metadata": {},
   "outputs": [
    {
     "name": "stdout",
     "output_type": "stream",
     "text": [
      "Indexes of top ranked_sentence order are \n",
      "\n",
      " [(0.06321847556853293, ['I', 'DO', 'NOT', 'LIKE', 'THAT', 'SAM-I-AM!']), (0.06143601920162538, ['I', 'DO', 'NOT', 'LIKE', 'THEM', 'ANYWHERE']), (0.057531865612924, ['I', 'DO', 'NOT', 'LIKE', 'THEM', 'HERE', 'OR', 'THERE']), (0.05728945163020967, ['I', 'DO', 'NOT', 'LIKE', 'THEM,', 'SAM-I-AM']), (0.057289451630209653, ['I', 'DO', 'NOT', 'LIKE', 'THEM,', 'SAM-I-AM']), (0.05702071446687991, ['I', 'DO', 'NOT', 'LIKE', 'THEM', 'WITH', 'A', 'MOUSE']), (0.056983599690836606, ['I', 'DO', 'NOT', 'LIKE', 'THEM', 'IN', 'A', 'HOUSE']), (0.0566062415473087, ['I', 'WOULD', 'NOT', 'LIKE', 'THEM', 'ANYWHERE']), (0.05637816982094812, ['I', 'DO', 'NOT', 'LIKE', 'THEM,', 'SAM-I-AM.\\n']), (0.056226314678287335, ['I', 'DO', 'NOT', 'LIKE', 'GREEN', 'EGGS', 'AND', 'HAM']), (0.056226314678287335, ['I', 'DO', 'NOT', 'LIKE', 'GREEN', 'EGGS', 'AND', 'HAM']), (0.056226314678287335, ['I', 'DO', 'NOT', 'LIKE', 'GREEN', 'EGGS', 'AND', 'HAM']), (0.053338934277549654, ['I', 'WOULD', 'NOT', 'LIKE', 'THEM', 'HERE', 'OR', 'THERE']), (0.03960609463088077, ['DO', 'WOULD', 'YOU', 'LIKE', 'GREEN', 'EGGS', 'AND', 'HAM?']), (0.0350182718613405, ['WOULD', 'YOU', 'LIKE', 'THEM', 'IN', 'A', 'HOUSE?']), (0.03492638917817515, ['SAM', 'I', 'AM']), (0.03492638917817515, ['I', 'AM', 'SAM']), (0.03492638917817515, ['I', 'AM', 'SAM']), (0.03486412173792891, ['WOULD', 'YOU', 'LIKE', 'THEM', 'HERE', 'OR', 'THERE?']), (0.02940805086606966, ['WOULD', 'YOU', 'LIKE', 'THEN', 'WITH', 'A', 'MOUSE?']), (0.010552425887368076, ['THAT', 'SAM-I-AM!', 'THAT', 'SAM-I-AM!'])]\n"
     ]
    }
   ],
   "source": [
    "# Step 4 - Sort the rank and pick top sentences\n",
    "ranked_sentence = sorted(((scores[i],s) for i,s in enumerate(sentences)), reverse=True)\n",
    "print(\"Indexes of top ranked_sentence order are \\n\\n\",ranked_sentence)"
   ]
  },
  {
   "cell_type": "code",
   "execution_count": 17,
   "id": "41ed4b31",
   "metadata": {},
   "outputs": [
    {
     "name": "stdout",
     "output_type": "stream",
     "text": [
      "How many sentences do you want in the summary? 3\n"
     ]
    }
   ],
   "source": [
    "#Step 5 - How many sentences to pick\n",
    "n = int(input(\"How many sentences do you want in the summary? \"))\n",
    "#n=2\n",
    "summarize_text = []\n",
    "for i in range(n):\n",
    "    summarize_text.append(\" \".join(ranked_sentence[i][1]))"
   ]
  },
  {
   "cell_type": "code",
   "execution_count": 18,
   "id": "39cb685e",
   "metadata": {},
   "outputs": [
    {
     "name": "stdout",
     "output_type": "stream",
     "text": [
      "Summarize Text: \n",
      " I DO NOT LIKE THAT SAM-I-AM!. I DO NOT LIKE THEM ANYWHERE. I DO NOT LIKE THEM HERE OR THERE\n"
     ]
    }
   ],
   "source": [
    "# Step 6 - Offcourse, output the summarize text\n",
    "print(\"Summarize Text: \\n\", \". \".join(summarize_text))"
   ]
  },
  {
   "cell_type": "markdown",
   "id": "871c9e2f",
   "metadata": {},
   "source": [
    "**EXAMPLE TEXT-3:**"
   ]
  },
  {
   "cell_type": "code",
   "execution_count": 19,
   "id": "af334cdb",
   "metadata": {},
   "outputs": [],
   "source": [
    "from nltk.corpus import stopwords #you can remove stop words for Speed\n",
    "from nltk.cluster.util import cosine_distance\n",
    "import numpy as np\n",
    "import networkx as nx"
   ]
  },
  {
   "cell_type": "code",
   "execution_count": 14,
   "id": "a54c2797",
   "metadata": {},
   "outputs": [
    {
     "name": "stdout",
     "output_type": "stream",
     "text": [
      "Original Sentences:\n",
      "As an institution of higher learning Sacred Heart University places special emphasis on academic integrity which is a commitment to the fundamental values of honesty trust fairness respect and responsibility\n",
      "Only when these values are widely respected and practiced by all members of the University students faculty administrators and staff can the University maintain a culture that promotes free exploration of knowledge constructive debate genuine learning effective research fair assessment of student progress and development of members characters\n",
      "These aims of the University require that its members exercise mutual responsibilities\n",
      "At its core academic integrity is secured by a principled commitment to carry out these responsibilities not by rules and penalties\n",
      "Students and faculty should strive to create an academic environment that is honest fair and respectful of all\n",
      "They do this by evaluating others work fairly by responding to others ideas critically yet courteously by respecting others intellectual and physical property and by nurturing the values of academic integrity in all contexts of University life\n",
      "Appropriate disciplinary action will be taken for violations of academic integrity including plagiarism cheating any use of materials for an assignment or exam that is not permitted by the instructor and theft or mutilation of intellectual materials or other University equipment\n",
      "Faculty will assign failing grades for violations of the University policy on academic integrity and students may immediately receive an F for a course in which they commit a violation\n",
      "Violations of academic integrity are kept on file second violations will bring additional sanctions up to dismissal from the University\n",
      "For any disciplinary action the University affords the student the right of due process in an appeals procedure\n",
      "All matriculated students will be provided with a full description of the University standards for academic integrity consequences for violations and the appeals procedure\n",
      "\n",
      "Kannada Translations:\n",
      "ಉನ್ನತ ಕಲಿಕೆಯ ಸಂಸ್ಥೆಯಾಗಿ ಸೇಕ್ರೆಡ್ ಹಾರ್ಟ್ ಯೂನಿವರ್ಸಿಟಿ ಶೈಕ್ಷಣಿಕ ಸಮಗ್ರತೆಗೆ ವಿಶೇಷ ಒತ್ತು ನೀಡುತ್ತದೆ, ಇದು ಪ್ರಾಮಾಣಿಕತೆಯ ಮೂಲಭೂತ ಮೌಲ್ಯಗಳಿಗೆ ಬದ್ಧತೆಯಾಗಿದೆ.\n",
      "ಈ ಮೌಲ್ಯಗಳನ್ನು ವಿಶ್ವವಿದ್ಯಾನಿಲಯದ ಎಲ್ಲಾ ಸದಸ್ಯರು ವ್ಯಾಪಕವಾಗಿ ಗೌರವಿಸಿದಾಗ ಮತ್ತು ಅಭ್ಯಾಸ ಮಾಡಿದಾಗ ಮಾತ್ರ ವಿಶ್ವವಿದ್ಯಾನಿಲಯದ ಬೋಧಕವರ್ಗದ ನಿರ್ವಾಹಕರು ಮತ್ತು ಸಿಬ್ಬಂದಿ ಜ್ಞಾನದ ಉಚಿತ ಪರಿಶೋಧನೆಯನ್ನು ಉತ್ತೇಜಿಸುವ ಸಂಸ್ಕೃತಿಯನ್ನು ನಿರ್ವಹಿಸಬಹುದು ರಚನಾತ್ಮಕ ಚರ್ಚೆ ನಿಜವಾದ ಕಲಿಕೆ ವಿದ್ಯಾರ್ಥಿಗಳ ಪ್ರಗತಿಯ ಪರಿಣಾಮಕಾರಿ ಸಂಶೋಧನಾ ನ್ಯಾಯೋಚಿತ ನ್ಯಾಯಯುತ ಮೌಲ್ಯಮಾಪನ ಮತ್ತು ಸದಸ್ಯರ ಪಾತ್ರಗಳ ಅಭಿವೃದ್ಧಿಯ ಮೌಲ್ಯಮಾಪನ\n",
      "ವಿಶ್ವವಿದ್ಯಾನಿಲಯದ ಈ ಗುರಿಗಳು ಅದರ ಸದಸ್ಯರು ಪರಸ್ಪರ ಜವಾಬ್ದಾರಿಗಳನ್ನು ನಿರ್ವಹಿಸುವ ಅಗತ್ಯವಿದೆ\n",
      "ಅದರ ಪ್ರಮುಖ ಶೈಕ್ಷಣಿಕ ಸಮಗ್ರತೆಯು ಈ ಜವಾಬ್ದಾರಿಗಳನ್ನು ನಿರ್ವಹಿಸುವ ತತ್ವಬದ್ಧ ಬದ್ಧತೆಯಿಂದ ಸುರಕ್ಷಿತವಾಗಿದೆ, ನಿಯಮಗಳು ಮತ್ತು ದಂಡಗಳಿಂದಲ್ಲ\n",
      "ವಿದ್ಯಾರ್ಥಿಗಳು ಮತ್ತು ಅಧ್ಯಾಪಕರು ಶೈಕ್ಷಣಿಕ ವಾತಾವರಣವನ್ನು ಸೃಷ್ಟಿಸಲು ಶ್ರಮಿಸಬೇಕು, ಅದು ಪ್ರಾಮಾಣಿಕ ನ್ಯಾಯೋಚಿತ ಮತ್ತು ಎಲ್ಲರ ಬಗ್ಗೆ ಗೌರವಯುತವಾಗಿದೆ\n",
      "ಇತರರಿಗೆ ಬೌದ್ಧಿಕ ಮತ್ತು ದೈಹಿಕ ಆಸ್ತಿಯನ್ನು ಗೌರವಿಸುವ ಮೂಲಕ ಮತ್ತು ವಿಶ್ವವಿದ್ಯಾನಿಲಯದ ಜೀವನದ ಎಲ್ಲಾ ಸಂದರ್ಭಗಳಲ್ಲಿ ಶೈಕ್ಷಣಿಕ ಸಮಗ್ರತೆಯ ಮೌಲ್ಯಗಳನ್ನು ಪೋಷಿಸುವ ಮೂಲಕ ಇತರರಿಗೆ ಮೌಲ್ಯಮಾಪನ ಮಾಡುವ ಮೂಲಕ ಅವರು ಇದನ್ನು ಮಾಡುತ್ತಾರೆ.\n",
      "ಬೋಧಕ ಮತ್ತು ಇತರ ವಿಶ್ವವಿದ್ಯಾಲಯದ ಉಪಕರಣಗಳ ಬೋಧಕ ಮತ್ತು ಕಳ್ಳತನ ಅಥವಾ uti ನಗೊಳಿಸುವಿಕೆಯಿಂದ ಅನುಮತಿಸದ ನಿಯೋಜನೆ ಅಥವಾ ಪರೀಕ್ಷೆಗೆ ವಸ್ತುಗಳ ಯಾವುದೇ ಬಳಕೆಯನ್ನು ಮೋಸ ಮಾಡುವುದು ಸೇರಿದಂತೆ ಶೈಕ್ಷಣಿಕ ಸಮಗ್ರತೆಯ ಉಲ್ಲಂಘನೆಗಾಗಿ ಸೂಕ್ತವಾದ ಶಿಸ್ತಿನ ಕ್ರಮ ತೆಗೆದುಕೊಳ್ಳಲಾಗುತ್ತದೆ.\n",
      "ಶೈಕ್ಷಣಿಕ ಸಮಗ್ರತೆಯ ಕುರಿತು ವಿಶ್ವವಿದ್ಯಾಲಯದ ನೀತಿಯ ಉಲ್ಲಂಘನೆಗಾಗಿ ಅಧ್ಯಾಪಕರು ವಿಫಲ ಶ್ರೇಣಿಗಳನ್ನು ನಿಯೋಜಿಸುತ್ತಾರೆ ಮತ್ತು ವಿದ್ಯಾರ್ಥಿಗಳು ಉಲ್ಲಂಘನೆಯನ್ನು ಮಾಡುವ ಕೋರ್ಸ್‌ಗಾಗಿ ತಕ್ಷಣವೇ ಎಫ್ ಅನ್ನು ಸ್ವೀಕರಿಸಬಹುದು\n",
      "ಶೈಕ್ಷಣಿಕ ಸಮಗ್ರತೆಯ ಉಲ್ಲಂಘನೆಯನ್ನು ಫೈಲ್‌ನಲ್ಲಿ ಇರಿಸಲಾಗುತ್ತದೆ ಎರಡನೇ ಉಲ್ಲಂಘನೆಗಳು ವಿಶ್ವವಿದ್ಯಾನಿಲಯದಿಂದ ವಜಾಗೊಳಿಸಲು ಹೆಚ್ಚುವರಿ ನಿರ್ಬಂಧಗಳನ್ನು ತರುತ್ತವೆ\n",
      "ಯಾವುದೇ ಶಿಸ್ತಿನ ಕ್ರಮಕ್ಕಾಗಿ ವಿಶ್ವವಿದ್ಯಾನಿಲಯವು ಮೇಲ್ಮನವಿ ಕಾರ್ಯವಿಧಾನದಲ್ಲಿ ವಿದ್ಯಾರ್ಥಿಗೆ ಸರಿಯಾದ ಪ್ರಕ್ರಿಯೆಯ ಹಕ್ಕನ್ನು ನೀಡುತ್ತದೆ\n",
      "ಎಲ್ಲಾ ಮೆಟ್ರಿಕ್ಯುಲೇಟೆಡ್ ವಿದ್ಯಾರ್ಥಿಗಳಿಗೆ ಉಲ್ಲಂಘನೆ ಮತ್ತು ಮೇಲ್ಮನವಿ ಕಾರ್ಯವಿಧಾನಕ್ಕಾಗಿ ಶೈಕ್ಷಣಿಕ ಸಮಗ್ರತೆಯ ಪರಿಣಾಮಗಳಿಗಾಗಿ ವಿಶ್ವವಿದ್ಯಾಲಯದ ಮಾನದಂಡಗಳ ಸಂಪೂರ್ಣ ವಿವರಣೆಯನ್ನು ನೀಡಲಾಗುವುದು\n",
      "\n",
      "Hindi Translations:\n",
      "उच्च शिक्षा के एक संस्था के रूप में पवित्र हृदय विश्वविद्यालय शैक्षणिक अखंडता पर विशेष जोर देता है जो ईमानदारी ट्रस्ट फेयरनेस सम्मान और जिम्मेदारी के मूल मूल्यों के लिए एक प्रतिबद्धता है\n",
      "केवल तभी जब इन मूल्यों का व्यापक रूप से सम्मान किया जाता है और विश्वविद्यालय के छात्रों के सभी सदस्यों द्वारा संकाय प्रशासक और कर्मचारियों द्वारा अभ्यास किया जाता है।\n",
      "विश्वविद्यालय के इन उद्देश्यों के लिए आवश्यक है कि इसके सदस्य आपसी जिम्मेदारियों का उपयोग करें\n",
      "इसके मूल शैक्षणिक अखंडता में इन जिम्मेदारियों को नियमों और दंडों द्वारा नहीं करने के लिए एक राजसी प्रतिबद्धता द्वारा सुरक्षित किया जाता है\n",
      "छात्रों और संकाय को एक शैक्षणिक वातावरण बनाने का प्रयास करना चाहिए जो ईमानदार निष्पक्ष और सभी का सम्मान करे\n",
      "वे दूसरों का मूल्यांकन करके दूसरों के विचारों का जवाब देकर काम करते हैं, दूसरों के विचारों को गंभीर रूप से अभी तक दूसरों को बौद्धिक और भौतिक संपत्ति का सम्मान करके और विश्वविद्यालय जीवन के सभी संदर्भों में शैक्षणिक अखंडता के मूल्यों का पोषण करके\n",
      "शैक्षणिक अखंडता के उल्लंघन के लिए उचित अनुशासनात्मक कार्रवाई की जाएगी, जिसमें साहित्यिक चोरी सहित किसी भी असाइनमेंट या परीक्षा के लिए सामग्री के किसी भी उपयोग को धोखा देना है जो प्रशिक्षक द्वारा अनुमति नहीं है और बौद्धिक सामग्री या अन्य विश्वविद्यालय उपकरणों की चोरी या उत्परिवर्तन\n",
      "संकाय अकादमिक अखंडता पर विश्वविद्यालय नीति के उल्लंघन के लिए असफल ग्रेड असाइन करेगा और छात्रों को तुरंत एक पाठ्यक्रम के लिए एक एफ प्राप्त हो सकता है जिसमें वे एक उल्लंघन करते हैं\n",
      "शैक्षणिक अखंडता के उल्लंघन को फाइल पर रखा जाता है दूसरा उल्लंघन विश्वविद्यालय से बर्खास्तगी के लिए अतिरिक्त प्रतिबंध लाएगा\n",
      "किसी भी अनुशासनात्मक कार्रवाई के लिए विश्वविद्यालय छात्र को अपील प्रक्रिया में नियत प्रक्रिया का अधिकार देता है\n",
      "सभी मैट्रिक किए गए छात्रों को उल्लंघन और अपील प्रक्रिया के लिए शैक्षणिक अखंडता परिणामों के लिए विश्वविद्यालय मानकों का पूर्ण विवरण प्रदान किया जाएगा\n"
     ]
    }
   ],
   "source": [
    "import re\n",
    "from googletrans import Translator\n",
    "\n",
    "def translate_text(file_path):\n",
    "    # Open the file and read data\n",
    "    with open(file_path, \"r\") as file:\n",
    "        filedata = file.readlines()\n",
    "\n",
    "    # Assuming the first paragraph is the first line, split by \". \"\n",
    "    article = filedata[0].split(\". \")\n",
    "    sentences = [re.sub(\"[^a-zA-Z ]\", \"\", sentence).strip() for sentence in article if sentence.strip()]  # Clean each sentence\n",
    "\n",
    "    # Create a translator object\n",
    "    translator = Translator()\n",
    "\n",
    "    # Translate sentences to Kannada and Hindi\n",
    "    kannada_sentences = [translator.translate(sentence, dest='kn').text for sentence in sentences if sentence]\n",
    "    hindi_sentences = [translator.translate(sentence, dest='hi').text for sentence in sentences if sentence]\n",
    "\n",
    "    # Print original and translated sentences\n",
    "    print(\"Original Sentences:\")\n",
    "    for sentence in sentences:\n",
    "        print(sentence)\n",
    "\n",
    "    print(\"\\nKannada Translations:\")\n",
    "    for kannada_sentence in kannada_sentences:\n",
    "        print(kannada_sentence)\n",
    "\n",
    "    print(\"\\nHindi Translations:\")\n",
    "    for hindi_sentence in hindi_sentences:\n",
    "        print(hindi_sentence)\n",
    "\n",
    "# Path to the text file\n",
    "file_path = \"Text3.txt\"\n",
    "\n",
    "# Call the function\n",
    "translate_text(file_path)\n"
   ]
  },
  {
   "cell_type": "code",
   "execution_count": 21,
   "id": "6cccb579",
   "metadata": {},
   "outputs": [
    {
     "name": "stdout",
     "output_type": "stream",
     "text": [
      "Sentences are  [['As', 'an', 'institution', 'of', 'higher', 'learning,', 'Sacred', 'Heart', 'University', 'places', 'special', 'emphasis', 'on', 'academic', 'integrity,', 'which', 'is', 'a', 'commitment', 'to', 'the', 'fundamental', 'values', 'of', 'honesty,', 'trust,', 'fairness,', 'respect,', 'and', 'responsibility'], ['Only', 'when', 'these', 'values', 'are', 'widely', 'respected', 'and', 'practiced', 'by', 'all', 'members', 'of', 'the', 'University', 'students,', 'faculty,', 'administrators,', 'and', 'staff', 'can', 'the', 'University', 'maintain', 'a', 'culture', 'that', 'promotes', 'free', 'exploration', 'of', 'knowledge,', 'constructive', 'debate,', 'genuine', 'learning,', 'effective', 'research,', 'fair', 'assessment', 'of', 'student', 'progress,', 'and', 'development', 'of', 'members', 'characters'], ['These', 'aims', 'of', 'the', 'University', 'require', 'that', 'its', 'members', 'exercise', 'mutual', 'responsibilities'], ['At', 'its', 'core,', 'academic', 'integrity', 'is', 'secured', 'by', 'a', 'principled', 'commitment', 'to', 'carry', 'out', 'these', 'responsibilities,', 'not', 'by', 'rules', 'and', 'penalties'], ['Students', 'and', 'faculty', 'should', 'strive', 'to', 'create', 'an', 'academic', 'environment', 'that', 'is', 'honest,', 'fair,', 'and', 'respectful', 'of', 'all'], ['They', 'do', 'this', 'by', 'evaluating', 'others', 'work', 'fairly,', 'by', 'responding', 'to', 'others', 'ideas', 'critically', 'yet', 'courteously,', 'by', 'respecting', 'others', 'intellectual', 'and', 'physical', 'property,', 'and', 'by', 'nurturing', 'the', 'values', 'of', 'academic', 'integrity', 'in', 'all', 'contexts', 'of', 'University', 'life'], ['Appropriate', 'disciplinary', 'action', 'will', 'be', 'taken', 'for', 'violations', 'of', 'academic', 'integrity,', 'including', 'plagiarism,', 'cheating,', 'any', 'use', 'of', 'materials', 'for', 'an', 'assignment', 'or', 'exam', 'that', 'is', 'not', 'permitted', 'by', 'the', 'instructor,', 'and', 'theft', 'or', 'mutilation', 'of', 'intellectual', 'materials', 'or', 'other', 'University', 'equipment'], ['Faculty', 'will', 'assign', 'failing', 'grades', 'for', 'violations', 'of', 'the', 'University', 'policy', 'on', 'academic', 'integrity', 'and', 'students', 'may', 'immediately', 'receive', 'an', 'F', 'for', 'a', 'course', 'in', 'which', 'they', 'commit', 'a', 'violation'], ['Violations', 'of', 'academic', 'integrity', 'are', 'kept', 'on', 'file', 'second', 'violations', 'will', 'bring', 'additional', 'sanctions,', 'up', 'to', 'dismissal', 'from', 'the', 'University'], ['For', 'any', 'disciplinary', 'action,', 'the', 'University', 'affords', 'the', 'student', 'the', 'right', 'of', 'due', 'process', 'in', 'an', 'appeals', 'procedure'], ['All', 'matriculated', 'students', 'will', 'be', 'provided', 'with', 'a', 'full', 'description', 'of', 'the', 'University', 'standards', 'for', 'academic', 'integrity,', 'consequences', 'for', 'violations,', 'and', 'the', 'appeals', 'procedure.']]\n"
     ]
    }
   ],
   "source": [
    "print(\"Sentences are \", sentences)"
   ]
  },
  {
   "cell_type": "code",
   "execution_count": 22,
   "id": "b9605aef",
   "metadata": {},
   "outputs": [],
   "source": [
    "def sentence_similarity(sent1, sent2 ):\n",
    "    sent1 = [w.lower() for w in sent1]\n",
    "    sent2 = [w.lower() for w in sent2]\n",
    "    all_words = list(set(sent1 + sent2))\n",
    "    vector1 = [0] * len(all_words)\n",
    "    vector2 = [0] * len(all_words)\n",
    "   # build the vector for the first sentence\n",
    "    for w in sent1:\n",
    "        vector1[all_words.index(w)] += 1\n",
    "    # build the vector for the second sentence\n",
    "    for w in sent2:\n",
    "        vector2[all_words.index(w)] += 1\n",
    "    return 1 - cosine_distance(vector1, vector2)"
   ]
  },
  {
   "cell_type": "code",
   "execution_count": 23,
   "id": "ddba9fad",
   "metadata": {},
   "outputs": [
    {
     "name": "stdout",
     "output_type": "stream",
     "text": [
      "Smilarity matrix \n",
      " [[0.         0.375      0.20412415 0.22116293 0.31622777 0.25315802\n",
      "  0.30439039 0.33348648 0.26382243 0.25259074 0.3006689 ]\n",
      " [0.375      0.         0.40824829 0.17201562 0.31622777 0.36822985\n",
      "  0.32780503 0.26274693 0.22613351 0.3127314  0.33407655]\n",
      " [0.20412415 0.40824829 0.         0.12038585 0.12909944 0.15032921\n",
      "  0.22941573 0.14852213 0.18463724 0.29462783 0.21821789]\n",
      " [0.22116293 0.17201562 0.12038585 0.         0.2331262  0.35290144\n",
      "  0.16571045 0.17879963 0.13336627 0.         0.11821656]\n",
      " [0.31622777 0.31622777 0.12909944 0.2331262  0.         0.26200013\n",
      "  0.26655699 0.26843775 0.14301939 0.09128709 0.25354628]\n",
      " [0.25315802 0.36822985 0.15032921 0.35290144 0.26200013 0.\n",
      "  0.27590308 0.22327214 0.19429458 0.1860229  0.22143052]\n",
      " [0.30439039 0.32780503 0.22941573 0.16571045 0.26655699 0.27590308\n",
      "  0.         0.3180176  0.25415212 0.32444284 0.37546963]\n",
      " [0.33348648 0.26274693 0.14852213 0.17879963 0.26843775 0.22327214\n",
      "  0.3180176  0.         0.32907259 0.31506302 0.45374261]\n",
      " [0.26382243 0.22613351 0.18463724 0.13336627 0.14301939 0.19429458\n",
      "  0.25415212 0.32907259 0.         0.21759707 0.24174689]\n",
      " [0.25259074 0.3127314  0.29462783 0.         0.09128709 0.1860229\n",
      "  0.32444284 0.31506302 0.21759707 0.         0.42433421]\n",
      " [0.3006689  0.33407655 0.21821789 0.11821656 0.25354628 0.22143052\n",
      "  0.37546963 0.45374261 0.24174689 0.42433421 0.        ]]\n"
     ]
    }
   ],
   "source": [
    "similarity_matrix = np.zeros((len(sentences), len(sentences)))\n",
    "\n",
    "for idx1 in range(len(sentences)):\n",
    "        for idx2 in range(len(sentences)):\n",
    "             if idx1 == idx2: #ignore if both are same sentences\n",
    "                continue\n",
    "             similarity_matrix[idx1][idx2] = sentence_similarity(sentences[idx1],sentences[idx2])\n",
    "print(\"Smilarity matrix \\n\", similarity_matrix)"
   ]
  },
  {
   "cell_type": "code",
   "execution_count": 24,
   "id": "2caf8ef8",
   "metadata": {},
   "outputs": [
    {
     "name": "stdout",
     "output_type": "stream",
     "text": [
      "scores {0: 0.10052808533762261, 1: 0.1092617813187325, 2: 0.07743541734389628, 3: 0.06555131921078501, 4: 0.08353031285994028, 5: 0.09032582020361654, 6: 0.10094508912146115, 7: 0.10059598487085707, 8: 0.08058955768995534, 9: 0.08737172856802625, 10: 0.10386490347510732}\n"
     ]
    }
   ],
   "source": [
    "# Step 3 - Rank sentences in similarity martix\n",
    "sentence_similarity_graph =nx.from_numpy_array(similarity_matrix)\n",
    "scores = nx.pagerank(sentence_similarity_graph)\n",
    "print(\"scores\", scores)"
   ]
  },
  {
   "cell_type": "code",
   "execution_count": 25,
   "id": "f3e66708",
   "metadata": {},
   "outputs": [
    {
     "name": "stdout",
     "output_type": "stream",
     "text": [
      "Indexes of top ranked_sentence order are \n",
      "\n",
      " [(0.1092617813187325, ['Only', 'when', 'these', 'values', 'are', 'widely', 'respected', 'and', 'practiced', 'by', 'all', 'members', 'of', 'the', 'University', 'students,', 'faculty,', 'administrators,', 'and', 'staff', 'can', 'the', 'University', 'maintain', 'a', 'culture', 'that', 'promotes', 'free', 'exploration', 'of', 'knowledge,', 'constructive', 'debate,', 'genuine', 'learning,', 'effective', 'research,', 'fair', 'assessment', 'of', 'student', 'progress,', 'and', 'development', 'of', 'members', 'characters']), (0.10386490347510732, ['All', 'matriculated', 'students', 'will', 'be', 'provided', 'with', 'a', 'full', 'description', 'of', 'the', 'University', 'standards', 'for', 'academic', 'integrity,', 'consequences', 'for', 'violations,', 'and', 'the', 'appeals', 'procedure.']), (0.10094508912146115, ['Appropriate', 'disciplinary', 'action', 'will', 'be', 'taken', 'for', 'violations', 'of', 'academic', 'integrity,', 'including', 'plagiarism,', 'cheating,', 'any', 'use', 'of', 'materials', 'for', 'an', 'assignment', 'or', 'exam', 'that', 'is', 'not', 'permitted', 'by', 'the', 'instructor,', 'and', 'theft', 'or', 'mutilation', 'of', 'intellectual', 'materials', 'or', 'other', 'University', 'equipment']), (0.10059598487085707, ['Faculty', 'will', 'assign', 'failing', 'grades', 'for', 'violations', 'of', 'the', 'University', 'policy', 'on', 'academic', 'integrity', 'and', 'students', 'may', 'immediately', 'receive', 'an', 'F', 'for', 'a', 'course', 'in', 'which', 'they', 'commit', 'a', 'violation']), (0.10052808533762261, ['As', 'an', 'institution', 'of', 'higher', 'learning,', 'Sacred', 'Heart', 'University', 'places', 'special', 'emphasis', 'on', 'academic', 'integrity,', 'which', 'is', 'a', 'commitment', 'to', 'the', 'fundamental', 'values', 'of', 'honesty,', 'trust,', 'fairness,', 'respect,', 'and', 'responsibility']), (0.09032582020361654, ['They', 'do', 'this', 'by', 'evaluating', 'others', 'work', 'fairly,', 'by', 'responding', 'to', 'others', 'ideas', 'critically', 'yet', 'courteously,', 'by', 'respecting', 'others', 'intellectual', 'and', 'physical', 'property,', 'and', 'by', 'nurturing', 'the', 'values', 'of', 'academic', 'integrity', 'in', 'all', 'contexts', 'of', 'University', 'life']), (0.08737172856802625, ['For', 'any', 'disciplinary', 'action,', 'the', 'University', 'affords', 'the', 'student', 'the', 'right', 'of', 'due', 'process', 'in', 'an', 'appeals', 'procedure']), (0.08353031285994028, ['Students', 'and', 'faculty', 'should', 'strive', 'to', 'create', 'an', 'academic', 'environment', 'that', 'is', 'honest,', 'fair,', 'and', 'respectful', 'of', 'all']), (0.08058955768995534, ['Violations', 'of', 'academic', 'integrity', 'are', 'kept', 'on', 'file', 'second', 'violations', 'will', 'bring', 'additional', 'sanctions,', 'up', 'to', 'dismissal', 'from', 'the', 'University']), (0.07743541734389628, ['These', 'aims', 'of', 'the', 'University', 'require', 'that', 'its', 'members', 'exercise', 'mutual', 'responsibilities']), (0.06555131921078501, ['At', 'its', 'core,', 'academic', 'integrity', 'is', 'secured', 'by', 'a', 'principled', 'commitment', 'to', 'carry', 'out', 'these', 'responsibilities,', 'not', 'by', 'rules', 'and', 'penalties'])]\n"
     ]
    }
   ],
   "source": [
    "# Step 4 - Sort the rank and pick top sentences\n",
    "ranked_sentence = sorted(((scores[i],s) for i,s in enumerate(sentences)), reverse=True)\n",
    "print(\"Indexes of top ranked_sentence order are \\n\\n\",ranked_sentence)"
   ]
  },
  {
   "cell_type": "code",
   "execution_count": 26,
   "id": "a27979f6",
   "metadata": {},
   "outputs": [
    {
     "name": "stdout",
     "output_type": "stream",
     "text": [
      "How many sentences do you want in the summary? 3\n"
     ]
    }
   ],
   "source": [
    "#Step 5 - How many sentences to pick\n",
    "n = int(input(\"How many sentences do you want in the summary? \"))\n",
    "#n=2\n",
    "summarize_text = []\n",
    "for i in range(n):\n",
    "    summarize_text.append(\" \".join(ranked_sentence[i][1]))"
   ]
  },
  {
   "cell_type": "code",
   "execution_count": 16,
   "id": "bbaa3981",
   "metadata": {},
   "outputs": [
    {
     "name": "stdout",
     "output_type": "stream",
     "text": [
      "Original Summary:\n",
      "As an institution of higher learning Sacred Heart University places special emphasis on academic integrity which is a commitment to the fundamental values of honesty trust fairness respect and responsibility. Only when these values are widely respected and practiced by all members of the University students faculty administrators and staff can the University maintain a culture that promotes free exploration of knowledge constructive debate genuine learning effective research fair assessment of student progress and development of members characters. These aims of the University require that its members exercise mutual responsibilities.\n",
      "\n",
      "Kannada Summary:\n",
      "ಉನ್ನತ ಕಲಿಕೆಯ ಒಂದು ಸಂಸ್ಥೆಯಾಗಿ ಸೇಕ್ರೆಡ್ ಹಾರ್ಟ್ ಯೂನಿವರ್ಸಿಟಿ ಶೈಕ್ಷಣಿಕ ಸಮಗ್ರತೆಗೆ ವಿಶೇಷ ಒತ್ತು ನೀಡುತ್ತದೆ, ಇದು ಪ್ರಾಮಾಣಿಕತೆಯ ನಂಬಿಕೆಯ ನ್ಯಾಯಯುತ ಗೌರವ ಮತ್ತು ಜವಾಬ್ದಾರಿಯ ಮೂಲಭೂತ ಮೌಲ್ಯಗಳಿಗೆ ಬದ್ಧವಾಗಿದೆ.ಈ ಮೌಲ್ಯಗಳನ್ನು ವಿಶ್ವವಿದ್ಯಾನಿಲಯದ ಎಲ್ಲ ಸದಸ್ಯರು ವ್ಯಾಪಕವಾಗಿ ಗೌರವಿಸಿದಾಗ ಮತ್ತು ಅಭ್ಯಾಸ ಮಾಡಿದಾಗ ಮಾತ್ರ ಬೋಧಕವರ್ಗದ ನಿರ್ವಾಹಕರು ಮತ್ತು ಸಿಬ್ಬಂದಿ ಜ್ಞಾನದ ಉಚಿತ ಪರಿಶೋಧನೆಯನ್ನು ಉತ್ತೇಜಿಸುವ ಸಂಸ್ಕೃತಿಯನ್ನು ವಿಶ್ವವಿದ್ಯಾನಿಲಯವು ನಿರ್ವಹಿಸಬಹುದು.ವಿಶ್ವವಿದ್ಯಾನಿಲಯದ ಈ ಗುರಿಗಳು ಅದರ ಸದಸ್ಯರು ಪರಸ್ಪರ ಜವಾಬ್ದಾರಿಗಳನ್ನು ನಿರ್ವಹಿಸಬೇಕು.\n",
      "\n",
      "Hindi Summary:\n",
      "उच्च शिक्षा के एक संस्था के रूप में पवित्र हृदय विश्वविद्यालय शैक्षणिक अखंडता पर विशेष जोर देता है जो कि ईमानदारी ट्रस्ट फेयरनेस सम्मान और जिम्मेदारी के मूल मूल्यों के लिए एक प्रतिबद्धता है।केवल जब इन मूल्यों को विश्वविद्यालय के छात्रों के संकाय प्रशासक और कर्मचारी के सभी सदस्यों द्वारा व्यापक रूप से सम्मान और अभ्यास किया जाता है, तो विश्वविद्यालय एक ऐसी संस्कृति को बनाए रख सकता है जो ज्ञान रचनात्मक बहस की मुफ्त खोज को बढ़ावा देता है वास्तविक शिक्षण छात्र प्रगति और सदस्यों के पात्रों के विकास के प्रभावी अनुसंधान निष्पक्ष मूल्यांकन।विश्वविद्यालय के इन उद्देश्यों के लिए आवश्यक है कि इसके सदस्य आपसी जिम्मेदारियों का उपयोग करें।\n"
     ]
    }
   ],
   "source": [
    "import re\n",
    "from googletrans import Translator\n",
    "\n",
    "def summarize_and_translate(file_path):\n",
    "    # Open the file and read data\n",
    "    with open(file_path, \"r\") as file:\n",
    "        filedata = file.readlines()\n",
    "\n",
    "    # Assuming the first paragraph is the first line, split by \". \"\n",
    "    article = filedata[0].split(\". \")\n",
    "    # Basic summarization by taking the first 3 sentences\n",
    "    summarize_text = article[:3]  # You can modify this logic based on your summary requirements\n",
    "\n",
    "    # Join the sentences to form the summary paragraph\n",
    "    summary = \". \".join(summarize_text).strip() + \".\"\n",
    "\n",
    "    # Clean the summary\n",
    "    summary_clean = re.sub(\"[^a-zA-Z. ]\", \"\", summary)\n",
    "\n",
    "    # Create a translator object\n",
    "    translator = Translator()\n",
    "\n",
    "    # Translate the summary to Kannada and Hindi\n",
    "    kannada_summary = translator.translate(summary_clean, dest='kn').text\n",
    "    hindi_summary = translator.translate(summary_clean, dest='hi').text\n",
    "\n",
    "    # Print original and translated summaries\n",
    "    print(\"Original Summary:\")\n",
    "    print(summary_clean)\n",
    "\n",
    "    print(\"\\nKannada Summary:\")\n",
    "    print(kannada_summary)\n",
    "\n",
    "    print(\"\\nHindi Summary:\")\n",
    "    print(hindi_summary)\n",
    "\n",
    "# Path to the text file\n",
    "file_path = \"Text3.txt\"\n",
    "\n",
    "# Call the function\n",
    "summarize_and_translate(file_path)\n"
   ]
  },
  {
   "cell_type": "code",
   "execution_count": null,
   "id": "65f293f8",
   "metadata": {},
   "outputs": [],
   "source": []
  }
 ],
 "metadata": {
  "kernelspec": {
   "display_name": "anaconda-panel-2023.05-py310",
   "language": "python",
   "name": "conda-env-anaconda-panel-2023.05-py310-py"
  },
  "language_info": {
   "codemirror_mode": {
    "name": "ipython",
    "version": 3
   },
   "file_extension": ".py",
   "mimetype": "text/x-python",
   "name": "python",
   "nbconvert_exporter": "python",
   "pygments_lexer": "ipython3",
   "version": "3.11.5"
  }
 },
 "nbformat": 4,
 "nbformat_minor": 5
}
