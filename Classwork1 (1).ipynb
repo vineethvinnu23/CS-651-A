{
 "cells": [
  {
   "cell_type": "markdown",
   "id": "6a62d413-f410-48a6-98b0-e234b06eae38",
   "metadata": {},
   "source": [
    "##  CS-651-B TEXT BASED ANALYSIS \n",
    "## Vineeth Anumula\n",
    "##  WEEK 1 "
   ]
  },
  {
   "cell_type": "markdown",
   "id": "942b7ad4-572a-4c6d-aac6-f5c623c255bc",
   "metadata": {},
   "source": [
    "### Python Strings"
   ]
  },
  {
   "cell_type": "code",
   "execution_count": 42,
   "id": "370a6868-dfbb-4ca8-b87b-b86442b6ebb2",
   "metadata": {},
   "outputs": [
    {
     "name": "stdout",
     "output_type": "stream",
     "text": [
      "Hello\n"
     ]
    }
   ],
   "source": [
    "a=\"Hello\"\n",
    "print(a)"
   ]
  },
  {
   "cell_type": "markdown",
   "id": "6a351f74-7308-40a8-a3e1-d248ecee5d7c",
   "metadata": {},
   "source": [
    "### Accessing individual letters"
   ]
  },
  {
   "cell_type": "code",
   "execution_count": 44,
   "id": "28b5c189-95f8-46ba-b107-721f2aaf035e",
   "metadata": {},
   "outputs": [
    {
     "name": "stdout",
     "output_type": "stream",
     "text": [
      "h\n",
      "e\n",
      "llo\n"
     ]
    }
   ],
   "source": [
    "a=\"hello, world!\"\n",
    "#prints the character at index 0 \n",
    "print(a[0])\n",
    "#prints the character at index 1 \n",
    "print(a[1])\n",
    "#extracts a substring from index 2 to 4 (excluding 5) \n",
    "b=\"hello , world!\"\n",
    "print(b[2:5])"
   ]
  },
  {
   "cell_type": "markdown",
   "id": "34667f9a-5deb-4bd5-ac87-779850c7331a",
   "metadata": {},
   "source": [
    "### More String Functions"
   ]
  },
  {
   "cell_type": "code",
   "execution_count": 46,
   "id": "f5aa308a-6951-48d5-859d-6f7b34601b38",
   "metadata": {},
   "outputs": [
    {
     "name": "stdout",
     "output_type": "stream",
     "text": [
      "13\n",
      "HELLO, WORLD!\n",
      "hello, world!\n",
      "fello, world!\n"
     ]
    }
   ],
   "source": [
    "a=\"hello, world!\"\n",
    "\n",
    "#determine the length of the string\n",
    "print(len(a))\n",
    "\n",
    "#upper() method is used to convert all the characters in the string to uppercase.\n",
    "print(a.upper())\n",
    "\n",
    "#lower() method is used to convert all the characters in the string to lowercase\n",
    "print(a.lower())\n",
    "\n",
    "#replace() method is used to replace a specified substring with another substring.\n",
    "print(a.replace(\"h\",\"f\"))"
   ]
  },
  {
   "cell_type": "markdown",
   "id": "89b2ed15-7797-49e5-82d1-19600e6e1181",
   "metadata": {},
   "source": [
    "### String concatenation"
   ]
  },
  {
   "cell_type": "code",
   "execution_count": 48,
   "id": "e1cf1037-7a77-445a-91c0-9af1716813fb",
   "metadata": {},
   "outputs": [
    {
     "name": "stdout",
     "output_type": "stream",
     "text": [
      "Hello World\n"
     ]
    }
   ],
   "source": [
    "a=\"Hello\"\n",
    "b=\"World\"\n",
    "c= a + \" \" + b\n",
    "#combines the strings \"Hello\" and \"World\" with a space in between, creating a new string \"Hello World\",\n",
    "print(c)"
   ]
  },
  {
   "cell_type": "code",
   "execution_count": 49,
   "id": "744d397a-0f3d-440d-a437-fe179dc69f30",
   "metadata": {},
   "outputs": [
    {
     "name": "stdout",
     "output_type": "stream",
     "text": [
      "h\n",
      "e\n",
      "l\n",
      "l\n",
      "o\n",
      " \n",
      "w\n",
      "o\n",
      "r\n",
      "l\n",
      "d\n"
     ]
    }
   ],
   "source": [
    "a=\"hello world\"\n",
    "# for loop to iterate through each character in the string\n",
    "for ch in a:\n",
    "# prints each character on a new line.\n",
    "    print(ch)"
   ]
  },
  {
   "cell_type": "markdown",
   "id": "e96421e3-a9f5-4179-8751-b47ba3241035",
   "metadata": {},
   "source": [
    "### Strings are immutable (once they are created, thet cannot be changed)"
   ]
  },
  {
   "cell_type": "code",
   "execution_count": 51,
   "id": "4f31d3bd-2c72-40c8-9acc-d89dbec168ed",
   "metadata": {},
   "outputs": [
    {
     "name": "stdout",
     "output_type": "stream",
     "text": [
      "given string: Water\n",
      "concatenated string: Clear Water\n"
     ]
    }
   ],
   "source": [
    "a=\"Water\"\n",
    "print(\"given string:\", a)\n",
    "# concatenation doesn't actually change the existing string but rather creates a new string and assigns the new string\n",
    "new_string = \"Clear\" \" \" + a\n",
    "# prints the original string \"Carmen\", concatenates it with the string \"Brown\"\n",
    "print(\"concatenated string:\", new_string)\n"
   ]
  },
  {
   "cell_type": "markdown",
   "id": "f9b85f8b-ddae-4366-b9b5-d0dc0efebdf0",
   "metadata": {},
   "source": [
    "### String Slicing (span of items taken from a sequence, known as substring)"
   ]
  },
  {
   "cell_type": "code",
   "execution_count": 53,
   "id": "a7bbe81c-76c2-4617-ae1e-5192255f6ac5",
   "metadata": {},
   "outputs": [
    {
     "name": "stdout",
     "output_type": "stream",
     "text": [
      "given string: Hel\n",
      "string: Hello \n"
     ]
    }
   ],
   "source": [
    "\n",
    "given_string = \"Hello World!\"\n",
    "# extracts characters from index 0 to 2\n",
    "substring= given_string[0:3]\n",
    "# the slice given_string[:6] extracts characters from the beginning up to index 5\n",
    "substring1=given_string[:6]\n",
    "print(\"given string:\", substring)\n",
    "print(\"string:\", substring1)"
   ]
  },
  {
   "cell_type": "markdown",
   "id": "cfc20fce-dfb3-4571-b8f8-8df16b9118ca",
   "metadata": {},
   "source": [
    "### Testing, Searching , and Manipulating Strings"
   ]
  },
  {
   "cell_type": "code",
   "execution_count": 55,
   "id": "3e1092df-4544-452a-a6fd-02fbdd63bc21",
   "metadata": {},
   "outputs": [
    {
     "name": "stdout",
     "output_type": "stream",
     "text": [
      "\"world\" is in \"hello world\"\n"
     ]
    }
   ],
   "source": [
    "# using in operator\n",
    "a=\"hello world\"\n",
    "b=\"world\"\n",
    "if b in a:\n",
    "    print(f'\"{b}\" is in \"{a}\"')\n",
    "    #uses the in operator to check if the substring \"world\" is present in the string \"hello world\" \n",
    "else:\n",
    "      print(f'\"{b}\"is not in \"{a}\"')"
   ]
  },
  {
   "cell_type": "markdown",
   "id": "4d384a1f-d7a9-42fe-b3fc-065ccd4a6060",
   "metadata": {},
   "source": [
    "### String Methods"
   ]
  },
  {
   "cell_type": "code",
   "execution_count": 57,
   "id": "ca2f374c-9d27-41b8-b749-dbc1102f2e1e",
   "metadata": {},
   "outputs": [
    {
     "name": "stdout",
     "output_type": "stream",
     "text": [
      "True\n"
     ]
    }
   ],
   "source": [
    "# is alpha numeric\n",
    "a=\"Vinnu23\"\n",
    "x=a.isalnum()\n",
    "print(x)"
   ]
  },
  {
   "cell_type": "code",
   "execution_count": 58,
   "id": "48e9e461-a076-4169-b25f-75cc9f8a6c48",
   "metadata": {},
   "outputs": [
    {
     "name": "stdout",
     "output_type": "stream",
     "text": [
      "True\n"
     ]
    }
   ],
   "source": [
    "# isalpha\n",
    "a = \"Vinnu\"\n",
    "x = a.isalpha()\n",
    "print(x)"
   ]
  },
  {
   "cell_type": "code",
   "execution_count": 59,
   "id": "714b9433-9c45-48d2-8b92-d5cae8e18352",
   "metadata": {},
   "outputs": [
    {
     "name": "stdout",
     "output_type": "stream",
     "text": [
      "True\n"
     ]
    }
   ],
   "source": [
    "a=\"23\"\n",
    "x=a.isdigit()\n",
    "print(x)"
   ]
  },
  {
   "cell_type": "code",
   "execution_count": 60,
   "id": "6a4ec1d7-0e19-40e9-a8c1-c73633ec9150",
   "metadata": {},
   "outputs": [
    {
     "name": "stdout",
     "output_type": "stream",
     "text": [
      "True\n"
     ]
    }
   ],
   "source": [
    "a=\"hello world\"\n",
    "x=a.islower()\n",
    "print(x)"
   ]
  },
  {
   "cell_type": "code",
   "execution_count": 61,
   "id": "87fd95c5-ba73-4b2b-8509-dd325f3d880e",
   "metadata": {},
   "outputs": [
    {
     "name": "stdout",
     "output_type": "stream",
     "text": [
      "True\n"
     ]
    }
   ],
   "source": [
    "a= \" \"\n",
    "x=a.isspace()\n",
    "print(x)"
   ]
  },
  {
   "cell_type": "code",
   "execution_count": 62,
   "id": "7d41ce96-1f70-4c94-aa09-b61982c4da5c",
   "metadata": {},
   "outputs": [
    {
     "name": "stdout",
     "output_type": "stream",
     "text": [
      "True\n"
     ]
    }
   ],
   "source": [
    "a=\"VINNU\"\n",
    "x=a.isupper()\n",
    "print(x)"
   ]
  },
  {
   "cell_type": "code",
   "execution_count": 63,
   "id": "82f4a3bd-e6d7-4458-b824-664f2c2e8373",
   "metadata": {},
   "outputs": [
    {
     "name": "stdout",
     "output_type": "stream",
     "text": [
      "True\n",
      "False\n"
     ]
    }
   ],
   "source": [
    "# starts with substring \n",
    "x=\"Hello Vinnu\"\n",
    "r1=x.endswith(\"Vinnu\")\n",
    "r2=x.endswith(\"VINNU\")\n",
    "print(f'{r1}')\n",
    "print(f'{r2}')"
   ]
  },
  {
   "cell_type": "code",
   "execution_count": 64,
   "id": "99dd889f-59cf-43cf-8ff7-e6a40e6b7619",
   "metadata": {},
   "outputs": [
    {
     "name": "stdout",
     "output_type": "stream",
     "text": [
      "6\n",
      "20\n",
      "Hello Prof. Nikshep, What's up?\n"
     ]
    }
   ],
   "source": [
    "#find substring\n",
    "x=\"Hello Vinnu, What's up?\"\n",
    "a=x.find(\"Vinnu\")\n",
    "b=x.find(\"up\")\n",
    "\n",
    "# replace substring\n",
    "given_string = x.replace(\"Vinnu\", \"Prof. Nikshep\")\n",
    "print(f'{a}')\n",
    "print(f'{b}')\n",
    "print(f'{given_string}')"
   ]
  },
  {
   "cell_type": "markdown",
   "id": "b236418f-249e-4fc9-84d8-05d7a4f24447",
   "metadata": {},
   "source": [
    "### Repetition Operator"
   ]
  },
  {
   "cell_type": "code",
   "execution_count": 66,
   "id": "3d2e01ef-2cad-4990-9166-4529f26244fc",
   "metadata": {},
   "outputs": [
    {
     "name": "stdout",
     "output_type": "stream",
     "text": [
      "hellohellohellohello\n"
     ]
    }
   ],
   "source": [
    "#repetition operator \n",
    "x=\"hello\"\n",
    "y=x*4\n",
    "print(f'{y}')"
   ]
  },
  {
   "cell_type": "markdown",
   "id": "d0857ef7-5aeb-410e-8605-8c7cd20ae0f1",
   "metadata": {},
   "source": [
    "###  Spliting a String"
   ]
  },
  {
   "cell_type": "code",
   "execution_count": 68,
   "id": "81310725-4a6d-4083-83e0-4afa9f55c519",
   "metadata": {},
   "outputs": [
    {
     "name": "stdout",
     "output_type": "stream",
     "text": [
      "['1', '2', '3', '4', '5']\n"
     ]
    }
   ],
   "source": [
    "my1='1/2/3/4/5'\n",
    "num=my1.split('/')\n",
    "print(num)"
   ]
  },
  {
   "cell_type": "code",
   "execution_count": 69,
   "id": "edb088b3-e24c-4b4c-aebb-005f870ace6c",
   "metadata": {},
   "outputs": [
    {
     "name": "stdout",
     "output_type": "stream",
     "text": [
      "['The sun always comes up in the morning ', ' in the east']\n"
     ]
    }
   ],
   "source": [
    "my2=\"The sun always comes up in the morning and in the east\"\n",
    "num=my2.split('and')\n",
    "print(num)"
   ]
  },
  {
   "cell_type": "markdown",
   "id": "66034a32-89e4-415e-8132-11785cfa76c6",
   "metadata": {},
   "source": [
    "### String tokens"
   ]
  },
  {
   "cell_type": "code",
   "execution_count": 71,
   "id": "865b58a7-3a11-48ed-9805-e2d9b45a3ddd",
   "metadata": {},
   "outputs": [
    {
     "name": "stdout",
     "output_type": "stream",
     "text": [
      "['1', '2', '3', '4', '5']\n"
     ]
    }
   ],
   "source": [
    "my1='1%2%3%4%5'\n",
    "num=my1.split('%')\n",
    "print(num)"
   ]
  },
  {
   "cell_type": "code",
   "execution_count": 72,
   "id": "435355c9-f4ce-41bc-b96a-c3f28860769d",
   "metadata": {},
   "outputs": [
    {
     "name": "stdout",
     "output_type": "stream",
     "text": [
      "['The sun always comes up in the morning ', ' the sun will come up tomorrow morning in the east']\n"
     ]
    }
   ],
   "source": [
    "my2=\"The sun always comes up in the morning and the sun will come up tomorrow morning in the east\"\n",
    "num=my2.split('and')\n",
    "print(num)"
   ]
  },
  {
   "cell_type": "code",
   "execution_count": 73,
   "id": "900c662e-2504-4057-9892-c70a3d53bccd",
   "metadata": {},
   "outputs": [
    {
     "name": "stdout",
     "output_type": "stream",
     "text": [
      "how are you vinnu\n",
      "\"Hello Vinnu\"\n",
      "\"Hello Vinnu \"\n",
      "\"Hello Vinnu\"\n"
     ]
    }
   ],
   "source": [
    "a=\"HOW ARE YOU VINNU\"\n",
    "x=a.lower()\n",
    "print(x)\n",
    "\n",
    "#lstrip()\n",
    "\n",
    "a=\" Hello Vinnu \"\n",
    "x=a.strip()\n",
    "left_strip=a.lstrip()\n",
    "right_strip=x.rstrip()\n",
    "print(f'\"{x}\"')\n",
    "print(f'\"{left_strip}\"')\n",
    "print(f'\"{right_strip}\"')"
   ]
  },
  {
   "cell_type": "code",
   "execution_count": 74,
   "id": "5f173ea0-5acc-465c-8966-bbaf599116c2",
   "metadata": {},
   "outputs": [
    {
     "name": "stdout",
     "output_type": "stream",
     "text": [
      "['Apple', 'Banana', 'Grapes']\n"
     ]
    }
   ],
   "source": [
    "#string tokens\n",
    "str='Apple Banana Grapes'\n",
    "token=str.split()\n",
    "print(token)"
   ]
  },
  {
   "cell_type": "code",
   "execution_count": null,
   "id": "3ccfb1d9-1533-473d-a6a0-14127e4ca46d",
   "metadata": {},
   "outputs": [],
   "source": []
  }
 ],
 "metadata": {
  "kernelspec": {
   "display_name": "anaconda-panel-2023.05-py310",
   "language": "python",
   "name": "conda-env-anaconda-panel-2023.05-py310-py"
  },
  "language_info": {
   "codemirror_mode": {
    "name": "ipython",
    "version": 3
   },
   "file_extension": ".py",
   "mimetype": "text/x-python",
   "name": "python",
   "nbconvert_exporter": "python",
   "pygments_lexer": "ipython3",
   "version": "3.11.5"
  }
 },
 "nbformat": 4,
 "nbformat_minor": 5
}
